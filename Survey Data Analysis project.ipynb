{
 "cells": [
  {
   "cell_type": "code",
   "execution_count": 1,
   "id": "996b0013",
   "metadata": {},
   "outputs": [],
   "source": [
    "import numpy as np\n",
    "import pandas as pd\n",
    "import matplotlib.pyplot as plt\n",
    "import datetime\n",
    "import seaborn as sns # customizied plotting\n",
    "import warnings\n",
    "warnings.filterwarnings('ignore')"
   ]
  },
  {
   "cell_type": "markdown",
   "id": "49c248fd",
   "metadata": {},
   "source": [
    "# Importing the import modules"
   ]
  },
  {
   "cell_type": "markdown",
   "id": "a155840e",
   "metadata": {},
   "source": [
    "# Question 1 -Load the dataset into a pandas dataframe. Name the variable as “survey”."
   ]
  },
  {
   "cell_type": "code",
   "execution_count": 2,
   "id": "5118727b",
   "metadata": {},
   "outputs": [],
   "source": [
    "survey=pd.read_csv(r\"C:\\Users\\kusha\\Videos\\Survey Dataset - Technical Interview.csv\")"
   ]
  },
  {
   "cell_type": "code",
   "execution_count": 3,
   "id": "26712819",
   "metadata": {},
   "outputs": [
    {
     "data": {
      "text/html": [
       "<div>\n",
       "<style scoped>\n",
       "    .dataframe tbody tr th:only-of-type {\n",
       "        vertical-align: middle;\n",
       "    }\n",
       "\n",
       "    .dataframe tbody tr th {\n",
       "        vertical-align: top;\n",
       "    }\n",
       "\n",
       "    .dataframe thead th {\n",
       "        text-align: right;\n",
       "    }\n",
       "</style>\n",
       "<table border=\"1\" class=\"dataframe\">\n",
       "  <thead>\n",
       "    <tr style=\"text-align: right;\">\n",
       "      <th></th>\n",
       "      <th>response_id</th>\n",
       "      <th>collection_date</th>\n",
       "      <th>urban_rural</th>\n",
       "      <th>education</th>\n",
       "      <th>income</th>\n",
       "      <th>Vote_Now</th>\n",
       "      <th>Past_Vote</th>\n",
       "      <th>CM_satisfaction</th>\n",
       "      <th>MLA_satisfaction</th>\n",
       "      <th>age</th>\n",
       "      <th>gender</th>\n",
       "      <th>assembly_no</th>\n",
       "      <th>category</th>\n",
       "      <th>weight</th>\n",
       "    </tr>\n",
       "  </thead>\n",
       "  <tbody>\n",
       "    <tr>\n",
       "      <th>0</th>\n",
       "      <td>1</td>\n",
       "      <td>5-24-2017</td>\n",
       "      <td>Rural</td>\n",
       "      <td>12th Pass</td>\n",
       "      <td>₹ 30,000 - ₹ 50,000</td>\n",
       "      <td>BJP</td>\n",
       "      <td>BJP</td>\n",
       "      <td>Fully Dissatisfied</td>\n",
       "      <td>Fully Dissatisfied</td>\n",
       "      <td>26</td>\n",
       "      <td>Male</td>\n",
       "      <td>211</td>\n",
       "      <td>Gen</td>\n",
       "      <td>0.346969</td>\n",
       "    </tr>\n",
       "    <tr>\n",
       "      <th>1</th>\n",
       "      <td>2</td>\n",
       "      <td>5-24-2017</td>\n",
       "      <td>Rural</td>\n",
       "      <td>Graduate</td>\n",
       "      <td>₹ 20,000 - ₹ 30,000</td>\n",
       "      <td>RLSP</td>\n",
       "      <td>JD(U)</td>\n",
       "      <td>Somewhat Satisfied</td>\n",
       "      <td>Fully Dissatisfied</td>\n",
       "      <td>34</td>\n",
       "      <td>Male</td>\n",
       "      <td>189</td>\n",
       "      <td>BC</td>\n",
       "      <td>0.603419</td>\n",
       "    </tr>\n",
       "    <tr>\n",
       "      <th>2</th>\n",
       "      <td>3</td>\n",
       "      <td>5-24-2017</td>\n",
       "      <td>Rural</td>\n",
       "      <td>Graduate</td>\n",
       "      <td>₹ 5,000 - ₹ 10,000</td>\n",
       "      <td>JAP(L)</td>\n",
       "      <td>BJP</td>\n",
       "      <td>Fully Dissatisfied</td>\n",
       "      <td>Somewhat Satisfied</td>\n",
       "      <td>25</td>\n",
       "      <td>Male</td>\n",
       "      <td>191</td>\n",
       "      <td>Gen</td>\n",
       "      <td>0.673762</td>\n",
       "    </tr>\n",
       "    <tr>\n",
       "      <th>3</th>\n",
       "      <td>4</td>\n",
       "      <td>5-24-2017</td>\n",
       "      <td>Urban</td>\n",
       "      <td>Graduate</td>\n",
       "      <td>₹ 10,000 - ₹ 20,000</td>\n",
       "      <td>RJD</td>\n",
       "      <td>RJD</td>\n",
       "      <td>Fully Dissatisfied</td>\n",
       "      <td>Somewhat Satisfied</td>\n",
       "      <td>36</td>\n",
       "      <td>Male</td>\n",
       "      <td>194</td>\n",
       "      <td>Gen</td>\n",
       "      <td>1.101298</td>\n",
       "    </tr>\n",
       "    <tr>\n",
       "      <th>4</th>\n",
       "      <td>5</td>\n",
       "      <td>5-24-2017</td>\n",
       "      <td>Rural</td>\n",
       "      <td>Graduate</td>\n",
       "      <td>₹ 50,000 - ₹ 80,000</td>\n",
       "      <td>JD(U)</td>\n",
       "      <td>Did not vote</td>\n",
       "      <td>Fully Satisfied</td>\n",
       "      <td>Fully Satisfied</td>\n",
       "      <td>22</td>\n",
       "      <td>Male</td>\n",
       "      <td>176</td>\n",
       "      <td>BC</td>\n",
       "      <td>0.333505</td>\n",
       "    </tr>\n",
       "    <tr>\n",
       "      <th>...</th>\n",
       "      <td>...</td>\n",
       "      <td>...</td>\n",
       "      <td>...</td>\n",
       "      <td>...</td>\n",
       "      <td>...</td>\n",
       "      <td>...</td>\n",
       "      <td>...</td>\n",
       "      <td>...</td>\n",
       "      <td>...</td>\n",
       "      <td>...</td>\n",
       "      <td>...</td>\n",
       "      <td>...</td>\n",
       "      <td>...</td>\n",
       "      <td>...</td>\n",
       "    </tr>\n",
       "    <tr>\n",
       "      <th>6862</th>\n",
       "      <td>6863</td>\n",
       "      <td>6-1-2017</td>\n",
       "      <td>Rural</td>\n",
       "      <td>10th Pass</td>\n",
       "      <td>BPL/Below ₹ 5,000</td>\n",
       "      <td>JD(U)</td>\n",
       "      <td>BJP</td>\n",
       "      <td>Fully Satisfied</td>\n",
       "      <td>Fully Dissatisfied</td>\n",
       "      <td>25</td>\n",
       "      <td>Male</td>\n",
       "      <td>166</td>\n",
       "      <td>Gen</td>\n",
       "      <td>0.036329</td>\n",
       "    </tr>\n",
       "    <tr>\n",
       "      <th>6863</th>\n",
       "      <td>6864</td>\n",
       "      <td>6-1-2017</td>\n",
       "      <td>Rural</td>\n",
       "      <td>Graduate</td>\n",
       "      <td>BPL/Below ₹ 5,000</td>\n",
       "      <td>RJD</td>\n",
       "      <td>RJD</td>\n",
       "      <td>Fully Dissatisfied</td>\n",
       "      <td>Fully Dissatisfied</td>\n",
       "      <td>30</td>\n",
       "      <td>Male</td>\n",
       "      <td>169</td>\n",
       "      <td>BC</td>\n",
       "      <td>0.252780</td>\n",
       "    </tr>\n",
       "    <tr>\n",
       "      <th>6864</th>\n",
       "      <td>6865</td>\n",
       "      <td>6-1-2017</td>\n",
       "      <td>Urban</td>\n",
       "      <td>Graduate</td>\n",
       "      <td>₹ 5,000 - ₹ 10,000</td>\n",
       "      <td>JAP(L)</td>\n",
       "      <td>RJD</td>\n",
       "      <td>Can’t say</td>\n",
       "      <td>Fully Dissatisfied</td>\n",
       "      <td>20</td>\n",
       "      <td>Male</td>\n",
       "      <td>241</td>\n",
       "      <td>Gen</td>\n",
       "      <td>1.812926</td>\n",
       "    </tr>\n",
       "    <tr>\n",
       "      <th>6865</th>\n",
       "      <td>6866</td>\n",
       "      <td>6-1-2017</td>\n",
       "      <td>Rural</td>\n",
       "      <td>Professional Education</td>\n",
       "      <td>₹ 10,000 - ₹ 20,000</td>\n",
       "      <td>BJP</td>\n",
       "      <td>Did not vote</td>\n",
       "      <td>Fully Satisfied</td>\n",
       "      <td>Somewhat Satisfied</td>\n",
       "      <td>23</td>\n",
       "      <td>Male</td>\n",
       "      <td>243</td>\n",
       "      <td>Gen</td>\n",
       "      <td>0.080137</td>\n",
       "    </tr>\n",
       "    <tr>\n",
       "      <th>6866</th>\n",
       "      <td>6867</td>\n",
       "      <td>6-1-2017</td>\n",
       "      <td>Rural</td>\n",
       "      <td>10th Pass</td>\n",
       "      <td>₹ 5,000 - ₹ 10,000</td>\n",
       "      <td>JAP(L)</td>\n",
       "      <td>JAP(L)</td>\n",
       "      <td>Fully Satisfied</td>\n",
       "      <td>Fully Satisfied</td>\n",
       "      <td>33</td>\n",
       "      <td>Male</td>\n",
       "      <td>241</td>\n",
       "      <td>Gen</td>\n",
       "      <td>1.797518</td>\n",
       "    </tr>\n",
       "  </tbody>\n",
       "</table>\n",
       "<p>6867 rows × 14 columns</p>\n",
       "</div>"
      ],
      "text/plain": [
       "      response_id collection_date urban_rural               education  \\\n",
       "0               1       5-24-2017       Rural               12th Pass   \n",
       "1               2       5-24-2017       Rural                Graduate   \n",
       "2               3       5-24-2017       Rural                Graduate   \n",
       "3               4       5-24-2017       Urban                Graduate   \n",
       "4               5       5-24-2017       Rural                Graduate   \n",
       "...           ...             ...         ...                     ...   \n",
       "6862         6863        6-1-2017       Rural               10th Pass   \n",
       "6863         6864        6-1-2017       Rural                Graduate   \n",
       "6864         6865        6-1-2017       Urban                Graduate   \n",
       "6865         6866        6-1-2017       Rural  Professional Education   \n",
       "6866         6867        6-1-2017       Rural               10th Pass   \n",
       "\n",
       "                   income Vote_Now     Past_Vote     CM_satisfaction  \\\n",
       "0     ₹ 30,000 - ₹ 50,000      BJP           BJP  Fully Dissatisfied   \n",
       "1     ₹ 20,000 - ₹ 30,000     RLSP         JD(U)  Somewhat Satisfied   \n",
       "2      ₹ 5,000 - ₹ 10,000   JAP(L)           BJP  Fully Dissatisfied   \n",
       "3     ₹ 10,000 - ₹ 20,000      RJD           RJD  Fully Dissatisfied   \n",
       "4     ₹ 50,000 - ₹ 80,000    JD(U)  Did not vote     Fully Satisfied   \n",
       "...                   ...      ...           ...                 ...   \n",
       "6862    BPL/Below ₹ 5,000    JD(U)           BJP     Fully Satisfied   \n",
       "6863    BPL/Below ₹ 5,000      RJD           RJD  Fully Dissatisfied   \n",
       "6864   ₹ 5,000 - ₹ 10,000   JAP(L)           RJD           Can’t say   \n",
       "6865  ₹ 10,000 - ₹ 20,000      BJP  Did not vote     Fully Satisfied   \n",
       "6866   ₹ 5,000 - ₹ 10,000   JAP(L)        JAP(L)     Fully Satisfied   \n",
       "\n",
       "        MLA_satisfaction age gender  assembly_no category    weight  \n",
       "0     Fully Dissatisfied  26   Male          211      Gen  0.346969  \n",
       "1     Fully Dissatisfied  34   Male          189       BC  0.603419  \n",
       "2     Somewhat Satisfied  25   Male          191      Gen  0.673762  \n",
       "3     Somewhat Satisfied  36   Male          194      Gen  1.101298  \n",
       "4        Fully Satisfied  22   Male          176       BC  0.333505  \n",
       "...                  ...  ..    ...          ...      ...       ...  \n",
       "6862  Fully Dissatisfied  25   Male          166      Gen  0.036329  \n",
       "6863  Fully Dissatisfied  30   Male          169       BC  0.252780  \n",
       "6864  Fully Dissatisfied  20   Male          241      Gen  1.812926  \n",
       "6865  Somewhat Satisfied  23   Male          243      Gen  0.080137  \n",
       "6866     Fully Satisfied  33   Male          241      Gen  1.797518  \n",
       "\n",
       "[6867 rows x 14 columns]"
      ]
     },
     "execution_count": 3,
     "metadata": {},
     "output_type": "execute_result"
    }
   ],
   "source": [
    "survey"
   ]
  },
  {
   "cell_type": "markdown",
   "id": "b682188a",
   "metadata": {},
   "source": [
    "# Question 2 - How many samples were collected each day?"
   ]
  },
  {
   "cell_type": "code",
   "execution_count": 4,
   "id": "e42d57f8",
   "metadata": {},
   "outputs": [
    {
     "data": {
      "text/plain": [
       "0       5-24-2017\n",
       "361     5-25-2017\n",
       "621     5-26-2017\n",
       "761     5-27-2017\n",
       "932     5-28-2017\n",
       "1107    5-29-2017\n",
       "1192    5-30-2017\n",
       "1213    5-31-2017\n",
       "1231     6-1-2017\n",
       "Name: collection_date, dtype: object"
      ]
     },
     "execution_count": 4,
     "metadata": {},
     "output_type": "execute_result"
    }
   ],
   "source": [
    "x=survey.drop_duplicates(subset=['collection_date'])\n",
    "x\n",
    "x['collection_date']"
   ]
  },
  {
   "cell_type": "code",
   "execution_count": 5,
   "id": "6e79fc23",
   "metadata": {},
   "outputs": [],
   "source": [
    "day1=survey.loc[survey[\"collection_date\"]==\"5-24-2017\"]\n",
    "day2=survey.loc[survey[\"collection_date\"]==\"5-25-2017\"]\n",
    "day3=survey.loc[survey[\"collection_date\"]==\"5-26-2017\"]\n",
    "day4=survey.loc[survey[\"collection_date\"]==\"5-27-2017\"]\n",
    "day5=survey.loc[survey[\"collection_date\"]==\"5-28-2017\"]\n",
    "day6=survey.loc[survey[\"collection_date\"]==\"5-29-2017\"]\n",
    "day7=survey.loc[survey[\"collection_date\"]==\"5-30-2017\"]\n",
    "day8=survey.loc[survey[\"collection_date\"]==\"5-31-2017\"]\n",
    "day9=survey.loc[survey[\"collection_date\"]==\"6-1-2017\"]\n",
    "a=len(day1)\n",
    "b=len(day2)\n",
    "c=len(day3)\n",
    "d=len(day4)\n",
    "e=len(day5)\n",
    "f=len(day6)\n",
    "g=len(day7)\n",
    "h=len(day8)\n",
    "i=len(day9)"
   ]
  },
  {
   "cell_type": "code",
   "execution_count": 6,
   "id": "e58c91ef",
   "metadata": {},
   "outputs": [
    {
     "name": "stdout",
     "output_type": "stream",
     "text": [
      "1479 998 598 665 761 620 582 557 607 This are sample collected by each day\n"
     ]
    }
   ],
   "source": [
    "print(a,b,c,d,e,f,g,h,i,end=\" \")\n",
    "print(\"This are sample collected by each day\")"
   ]
  },
  {
   "cell_type": "markdown",
   "id": "f7a29b63",
   "metadata": {},
   "source": [
    "# Question 3 - What proportion of the total respondents were aged less than 45?"
   ]
  },
  {
   "cell_type": "code",
   "execution_count": 4,
   "id": "838af5c5",
   "metadata": {},
   "outputs": [
    {
     "name": "stdout",
     "output_type": "stream",
     "text": [
      "93.18479685452162 is proportion ofthe total respondents were aged less than 45\n"
     ]
    }
   ],
   "source": [
    "survey['age'].replace('24ko',24,inplace=True)\n",
    "survey['age']= survey['age'].astype('int')\n",
    "print((len(survey[survey['age']<45])/len(survey)*100),\"is proportion ofthe total respondents were aged less than 45\")"
   ]
  },
  {
   "cell_type": "markdown",
   "id": "1729b094",
   "metadata": {},
   "source": [
    "# Question 4 - Create a new column in the dataframe “age_group”. This column should contain the age group the respondent belongs to. The age groups are 18-25, 25-40, 40-55 and 55+. The dataframe should look like this after the column creation."
   ]
  },
  {
   "cell_type": "code",
   "execution_count": 5,
   "id": "b2caa803",
   "metadata": {},
   "outputs": [
    {
     "data": {
      "text/html": [
       "<div>\n",
       "<style scoped>\n",
       "    .dataframe tbody tr th:only-of-type {\n",
       "        vertical-align: middle;\n",
       "    }\n",
       "\n",
       "    .dataframe tbody tr th {\n",
       "        vertical-align: top;\n",
       "    }\n",
       "\n",
       "    .dataframe thead th {\n",
       "        text-align: right;\n",
       "    }\n",
       "</style>\n",
       "<table border=\"1\" class=\"dataframe\">\n",
       "  <thead>\n",
       "    <tr style=\"text-align: right;\">\n",
       "      <th></th>\n",
       "      <th>response_id</th>\n",
       "      <th>collection_date</th>\n",
       "      <th>urban_rural</th>\n",
       "      <th>education</th>\n",
       "      <th>income</th>\n",
       "      <th>Vote_Now</th>\n",
       "      <th>Past_Vote</th>\n",
       "      <th>CM_satisfaction</th>\n",
       "      <th>MLA_satisfaction</th>\n",
       "      <th>age</th>\n",
       "      <th>gender</th>\n",
       "      <th>assembly_no</th>\n",
       "      <th>category</th>\n",
       "      <th>weight</th>\n",
       "      <th>age_group</th>\n",
       "    </tr>\n",
       "  </thead>\n",
       "  <tbody>\n",
       "    <tr>\n",
       "      <th>0</th>\n",
       "      <td>1</td>\n",
       "      <td>5-24-2017</td>\n",
       "      <td>Rural</td>\n",
       "      <td>12th Pass</td>\n",
       "      <td>₹ 30,000 - ₹ 50,000</td>\n",
       "      <td>BJP</td>\n",
       "      <td>BJP</td>\n",
       "      <td>Fully Dissatisfied</td>\n",
       "      <td>Fully Dissatisfied</td>\n",
       "      <td>26</td>\n",
       "      <td>Male</td>\n",
       "      <td>211</td>\n",
       "      <td>Gen</td>\n",
       "      <td>0.346969</td>\n",
       "      <td>25-40</td>\n",
       "    </tr>\n",
       "    <tr>\n",
       "      <th>1</th>\n",
       "      <td>2</td>\n",
       "      <td>5-24-2017</td>\n",
       "      <td>Rural</td>\n",
       "      <td>Graduate</td>\n",
       "      <td>₹ 20,000 - ₹ 30,000</td>\n",
       "      <td>RLSP</td>\n",
       "      <td>JD(U)</td>\n",
       "      <td>Somewhat Satisfied</td>\n",
       "      <td>Fully Dissatisfied</td>\n",
       "      <td>34</td>\n",
       "      <td>Male</td>\n",
       "      <td>189</td>\n",
       "      <td>BC</td>\n",
       "      <td>0.603419</td>\n",
       "      <td>25-40</td>\n",
       "    </tr>\n",
       "    <tr>\n",
       "      <th>2</th>\n",
       "      <td>3</td>\n",
       "      <td>5-24-2017</td>\n",
       "      <td>Rural</td>\n",
       "      <td>Graduate</td>\n",
       "      <td>₹ 5,000 - ₹ 10,000</td>\n",
       "      <td>JAP(L)</td>\n",
       "      <td>BJP</td>\n",
       "      <td>Fully Dissatisfied</td>\n",
       "      <td>Somewhat Satisfied</td>\n",
       "      <td>25</td>\n",
       "      <td>Male</td>\n",
       "      <td>191</td>\n",
       "      <td>Gen</td>\n",
       "      <td>0.673762</td>\n",
       "      <td>18-25</td>\n",
       "    </tr>\n",
       "    <tr>\n",
       "      <th>3</th>\n",
       "      <td>4</td>\n",
       "      <td>5-24-2017</td>\n",
       "      <td>Urban</td>\n",
       "      <td>Graduate</td>\n",
       "      <td>₹ 10,000 - ₹ 20,000</td>\n",
       "      <td>RJD</td>\n",
       "      <td>RJD</td>\n",
       "      <td>Fully Dissatisfied</td>\n",
       "      <td>Somewhat Satisfied</td>\n",
       "      <td>36</td>\n",
       "      <td>Male</td>\n",
       "      <td>194</td>\n",
       "      <td>Gen</td>\n",
       "      <td>1.101298</td>\n",
       "      <td>25-40</td>\n",
       "    </tr>\n",
       "    <tr>\n",
       "      <th>4</th>\n",
       "      <td>5</td>\n",
       "      <td>5-24-2017</td>\n",
       "      <td>Rural</td>\n",
       "      <td>Graduate</td>\n",
       "      <td>₹ 50,000 - ₹ 80,000</td>\n",
       "      <td>JD(U)</td>\n",
       "      <td>Did not vote</td>\n",
       "      <td>Fully Satisfied</td>\n",
       "      <td>Fully Satisfied</td>\n",
       "      <td>22</td>\n",
       "      <td>Male</td>\n",
       "      <td>176</td>\n",
       "      <td>BC</td>\n",
       "      <td>0.333505</td>\n",
       "      <td>18-25</td>\n",
       "    </tr>\n",
       "    <tr>\n",
       "      <th>...</th>\n",
       "      <td>...</td>\n",
       "      <td>...</td>\n",
       "      <td>...</td>\n",
       "      <td>...</td>\n",
       "      <td>...</td>\n",
       "      <td>...</td>\n",
       "      <td>...</td>\n",
       "      <td>...</td>\n",
       "      <td>...</td>\n",
       "      <td>...</td>\n",
       "      <td>...</td>\n",
       "      <td>...</td>\n",
       "      <td>...</td>\n",
       "      <td>...</td>\n",
       "      <td>...</td>\n",
       "    </tr>\n",
       "    <tr>\n",
       "      <th>6862</th>\n",
       "      <td>6863</td>\n",
       "      <td>6-1-2017</td>\n",
       "      <td>Rural</td>\n",
       "      <td>10th Pass</td>\n",
       "      <td>BPL/Below ₹ 5,000</td>\n",
       "      <td>JD(U)</td>\n",
       "      <td>BJP</td>\n",
       "      <td>Fully Satisfied</td>\n",
       "      <td>Fully Dissatisfied</td>\n",
       "      <td>25</td>\n",
       "      <td>Male</td>\n",
       "      <td>166</td>\n",
       "      <td>Gen</td>\n",
       "      <td>0.036329</td>\n",
       "      <td>18-25</td>\n",
       "    </tr>\n",
       "    <tr>\n",
       "      <th>6863</th>\n",
       "      <td>6864</td>\n",
       "      <td>6-1-2017</td>\n",
       "      <td>Rural</td>\n",
       "      <td>Graduate</td>\n",
       "      <td>BPL/Below ₹ 5,000</td>\n",
       "      <td>RJD</td>\n",
       "      <td>RJD</td>\n",
       "      <td>Fully Dissatisfied</td>\n",
       "      <td>Fully Dissatisfied</td>\n",
       "      <td>30</td>\n",
       "      <td>Male</td>\n",
       "      <td>169</td>\n",
       "      <td>BC</td>\n",
       "      <td>0.252780</td>\n",
       "      <td>25-40</td>\n",
       "    </tr>\n",
       "    <tr>\n",
       "      <th>6864</th>\n",
       "      <td>6865</td>\n",
       "      <td>6-1-2017</td>\n",
       "      <td>Urban</td>\n",
       "      <td>Graduate</td>\n",
       "      <td>₹ 5,000 - ₹ 10,000</td>\n",
       "      <td>JAP(L)</td>\n",
       "      <td>RJD</td>\n",
       "      <td>Can’t say</td>\n",
       "      <td>Fully Dissatisfied</td>\n",
       "      <td>20</td>\n",
       "      <td>Male</td>\n",
       "      <td>241</td>\n",
       "      <td>Gen</td>\n",
       "      <td>1.812926</td>\n",
       "      <td>18-25</td>\n",
       "    </tr>\n",
       "    <tr>\n",
       "      <th>6865</th>\n",
       "      <td>6866</td>\n",
       "      <td>6-1-2017</td>\n",
       "      <td>Rural</td>\n",
       "      <td>Professional Education</td>\n",
       "      <td>₹ 10,000 - ₹ 20,000</td>\n",
       "      <td>BJP</td>\n",
       "      <td>Did not vote</td>\n",
       "      <td>Fully Satisfied</td>\n",
       "      <td>Somewhat Satisfied</td>\n",
       "      <td>23</td>\n",
       "      <td>Male</td>\n",
       "      <td>243</td>\n",
       "      <td>Gen</td>\n",
       "      <td>0.080137</td>\n",
       "      <td>18-25</td>\n",
       "    </tr>\n",
       "    <tr>\n",
       "      <th>6866</th>\n",
       "      <td>6867</td>\n",
       "      <td>6-1-2017</td>\n",
       "      <td>Rural</td>\n",
       "      <td>10th Pass</td>\n",
       "      <td>₹ 5,000 - ₹ 10,000</td>\n",
       "      <td>JAP(L)</td>\n",
       "      <td>JAP(L)</td>\n",
       "      <td>Fully Satisfied</td>\n",
       "      <td>Fully Satisfied</td>\n",
       "      <td>33</td>\n",
       "      <td>Male</td>\n",
       "      <td>241</td>\n",
       "      <td>Gen</td>\n",
       "      <td>1.797518</td>\n",
       "      <td>25-40</td>\n",
       "    </tr>\n",
       "  </tbody>\n",
       "</table>\n",
       "<p>6867 rows × 15 columns</p>\n",
       "</div>"
      ],
      "text/plain": [
       "      response_id collection_date urban_rural               education  \\\n",
       "0               1       5-24-2017       Rural               12th Pass   \n",
       "1               2       5-24-2017       Rural                Graduate   \n",
       "2               3       5-24-2017       Rural                Graduate   \n",
       "3               4       5-24-2017       Urban                Graduate   \n",
       "4               5       5-24-2017       Rural                Graduate   \n",
       "...           ...             ...         ...                     ...   \n",
       "6862         6863        6-1-2017       Rural               10th Pass   \n",
       "6863         6864        6-1-2017       Rural                Graduate   \n",
       "6864         6865        6-1-2017       Urban                Graduate   \n",
       "6865         6866        6-1-2017       Rural  Professional Education   \n",
       "6866         6867        6-1-2017       Rural               10th Pass   \n",
       "\n",
       "                   income Vote_Now     Past_Vote     CM_satisfaction  \\\n",
       "0     ₹ 30,000 - ₹ 50,000      BJP           BJP  Fully Dissatisfied   \n",
       "1     ₹ 20,000 - ₹ 30,000     RLSP         JD(U)  Somewhat Satisfied   \n",
       "2      ₹ 5,000 - ₹ 10,000   JAP(L)           BJP  Fully Dissatisfied   \n",
       "3     ₹ 10,000 - ₹ 20,000      RJD           RJD  Fully Dissatisfied   \n",
       "4     ₹ 50,000 - ₹ 80,000    JD(U)  Did not vote     Fully Satisfied   \n",
       "...                   ...      ...           ...                 ...   \n",
       "6862    BPL/Below ₹ 5,000    JD(U)           BJP     Fully Satisfied   \n",
       "6863    BPL/Below ₹ 5,000      RJD           RJD  Fully Dissatisfied   \n",
       "6864   ₹ 5,000 - ₹ 10,000   JAP(L)           RJD           Can’t say   \n",
       "6865  ₹ 10,000 - ₹ 20,000      BJP  Did not vote     Fully Satisfied   \n",
       "6866   ₹ 5,000 - ₹ 10,000   JAP(L)        JAP(L)     Fully Satisfied   \n",
       "\n",
       "        MLA_satisfaction  age gender  assembly_no category    weight age_group  \n",
       "0     Fully Dissatisfied   26   Male          211      Gen  0.346969     25-40  \n",
       "1     Fully Dissatisfied   34   Male          189       BC  0.603419     25-40  \n",
       "2     Somewhat Satisfied   25   Male          191      Gen  0.673762     18-25  \n",
       "3     Somewhat Satisfied   36   Male          194      Gen  1.101298     25-40  \n",
       "4        Fully Satisfied   22   Male          176       BC  0.333505     18-25  \n",
       "...                  ...  ...    ...          ...      ...       ...       ...  \n",
       "6862  Fully Dissatisfied   25   Male          166      Gen  0.036329     18-25  \n",
       "6863  Fully Dissatisfied   30   Male          169       BC  0.252780     25-40  \n",
       "6864  Fully Dissatisfied   20   Male          241      Gen  1.812926     18-25  \n",
       "6865  Somewhat Satisfied   23   Male          243      Gen  0.080137     18-25  \n",
       "6866     Fully Satisfied   33   Male          241      Gen  1.797518     25-40  \n",
       "\n",
       "[6867 rows x 15 columns]"
      ]
     },
     "execution_count": 5,
     "metadata": {},
     "output_type": "execute_result"
    }
   ],
   "source": [
    "survey=survey.assign(age_group=pd.cut(survey[\"age\"],bins=[18,25,40,55,100],labels=[\"18-25\",\"25-40\",\"40-55\",\"56-100\"]))\n",
    "survey"
   ]
  },
  {
   "cell_type": "markdown",
   "id": "d445db7e",
   "metadata": {},
   "source": [
    "# Question 5 - How many samples were collected for each age-group? Which age-group had the most samples?"
   ]
  },
  {
   "cell_type": "code",
   "execution_count": 10,
   "id": "fb112077",
   "metadata": {},
   "outputs": [
    {
     "data": {
      "text/plain": [
       "25-40     3423\n",
       "18-25     2567\n",
       "40-55      644\n",
       "56-100     108\n",
       "Name: age_group, dtype: int64"
      ]
     },
     "execution_count": 10,
     "metadata": {},
     "output_type": "execute_result"
    }
   ],
   "source": [
    "survey[\"age_group\"].value_counts()"
   ]
  },
  {
   "cell_type": "markdown",
   "id": "233b324c",
   "metadata": {},
   "source": [
    "# Question 6 - What proportion of the respondents had opted for the RJD party in both the Vote_Now and the Past_Vote questions?"
   ]
  },
  {
   "cell_type": "code",
   "execution_count": 20,
   "id": "79cafb7e",
   "metadata": {},
   "outputs": [],
   "source": [
    "survey1=survey.loc[(survey[\"Vote_Now\"]=='RJD' )& (survey[\"Past_Vote\"]=='RJD')]"
   ]
  },
  {
   "cell_type": "code",
   "execution_count": 24,
   "id": "d56ec7fb",
   "metadata": {},
   "outputs": [
    {
     "name": "stdout",
     "output_type": "stream",
     "text": [
      "11.810106305519149 proportion of the respondents had opted for the RJD party in both the Vote_Now and the Past_Vote\n"
     ]
    }
   ],
   "source": [
    "print((len(survey1)/len(survey)*100),\"proportion of the respondents had opted for the RJD party in both the Vote_Now and the Past_Vote\")"
   ]
  },
  {
   "cell_type": "markdown",
   "id": "1f40b2a5",
   "metadata": {},
   "source": [
    "# Question 7 - For each day of sample collection, determine the proportion of respondents who were fully satisfied with the performance of the CM. So if there were a total of 1000 samples on day 1 and 300 out of those said they were fully satisfied, then our answer for that day would be 0.3."
   ]
  },
  {
   "cell_type": "code",
   "execution_count": 70,
   "id": "e46179fe",
   "metadata": {},
   "outputs": [
    {
     "data": {
      "text/plain": [
       "5"
      ]
     },
     "execution_count": 70,
     "metadata": {},
     "output_type": "execute_result"
    }
   ],
   "source": [
    "a=survey.groupby('CM_satisfaction')\n",
    "a\n",
    "a.ngroups"
   ]
  },
  {
   "cell_type": "code",
   "execution_count": 78,
   "id": "fba2efac",
   "metadata": {},
   "outputs": [
    {
     "data": {
      "text/plain": [
       "Fully Dissatisfied       3012\n",
       "Somewhat Satisfied       2218\n",
       "Fully Satisfied           721\n",
       "Somewhat Dissatisfied     680\n",
       "Can’t say                 236\n",
       "Name: CM_satisfaction, dtype: int64"
      ]
     },
     "execution_count": 78,
     "metadata": {},
     "output_type": "execute_result"
    }
   ],
   "source": [
    "a=survey[\"CM_satisfaction\"].value_counts()\n",
    "a"
   ]
  },
  {
   "cell_type": "code",
   "execution_count": 131,
   "id": "2c677150",
   "metadata": {},
   "outputs": [
    {
     "data": {
      "text/html": [
       "<div>\n",
       "<style scoped>\n",
       "    .dataframe tbody tr th:only-of-type {\n",
       "        vertical-align: middle;\n",
       "    }\n",
       "\n",
       "    .dataframe tbody tr th {\n",
       "        vertical-align: top;\n",
       "    }\n",
       "\n",
       "    .dataframe thead th {\n",
       "        text-align: right;\n",
       "    }\n",
       "</style>\n",
       "<table border=\"1\" class=\"dataframe\">\n",
       "  <thead>\n",
       "    <tr style=\"text-align: right;\">\n",
       "      <th></th>\n",
       "      <th>CM_satisfaction</th>\n",
       "    </tr>\n",
       "    <tr>\n",
       "      <th>collection_date</th>\n",
       "      <th></th>\n",
       "    </tr>\n",
       "  </thead>\n",
       "  <tbody>\n",
       "    <tr>\n",
       "      <th>5-24-2017</th>\n",
       "      <td>9.871535</td>\n",
       "    </tr>\n",
       "    <tr>\n",
       "      <th>5-25-2017</th>\n",
       "      <td>9.519038</td>\n",
       "    </tr>\n",
       "    <tr>\n",
       "      <th>5-26-2017</th>\n",
       "      <td>9.866221</td>\n",
       "    </tr>\n",
       "    <tr>\n",
       "      <th>5-27-2017</th>\n",
       "      <td>8.120301</td>\n",
       "    </tr>\n",
       "    <tr>\n",
       "      <th>5-28-2017</th>\n",
       "      <td>12.089356</td>\n",
       "    </tr>\n",
       "    <tr>\n",
       "      <th>5-29-2017</th>\n",
       "      <td>11.774194</td>\n",
       "    </tr>\n",
       "    <tr>\n",
       "      <th>5-30-2017</th>\n",
       "      <td>11.168385</td>\n",
       "    </tr>\n",
       "    <tr>\n",
       "      <th>5-31-2017</th>\n",
       "      <td>11.131059</td>\n",
       "    </tr>\n",
       "    <tr>\n",
       "      <th>6-1-2017</th>\n",
       "      <td>12.355848</td>\n",
       "    </tr>\n",
       "  </tbody>\n",
       "</table>\n",
       "</div>"
      ],
      "text/plain": [
       "                 CM_satisfaction\n",
       "collection_date                 \n",
       "5-24-2017               9.871535\n",
       "5-25-2017               9.519038\n",
       "5-26-2017               9.866221\n",
       "5-27-2017               8.120301\n",
       "5-28-2017              12.089356\n",
       "5-29-2017              11.774194\n",
       "5-30-2017              11.168385\n",
       "5-31-2017              11.131059\n",
       "6-1-2017               12.355848"
      ]
     },
     "execution_count": 131,
     "metadata": {},
     "output_type": "execute_result"
    }
   ],
   "source": [
    "survey1=survey.groupby(by='collection_date')[['CM_satisfaction']].apply(lambda x:np.sum(x=='Fully Satisfied')/len(x)*100)\n",
    "survey1"
   ]
  },
  {
   "cell_type": "markdown",
   "id": "b0c5c52a",
   "metadata": {},
   "source": [
    "* Here using by the group by the function in pandas and using oflambda function"
   ]
  },
  {
   "cell_type": "markdown",
   "id": "41760ca9",
   "metadata": {},
   "source": [
    "# Question 8 - In a similar fashion create a day-wise proportion of respondents that opted fully dissatisfied with their MLA. Create a line plot of the result with date on x-axis and proportions on the y-axis."
   ]
  },
  {
   "cell_type": "code",
   "execution_count": 90,
   "id": "6602ab5f",
   "metadata": {},
   "outputs": [
    {
     "data": {
      "text/plain": [
       "Fully Dissatisfied       4152\n",
       "Somewhat Satisfied       1168\n",
       "Fully Satisfied           670\n",
       "Somewhat Dissatisfied     527\n",
       "Can’t say                 350\n",
       "Name: MLA_satisfaction, dtype: int64"
      ]
     },
     "execution_count": 90,
     "metadata": {},
     "output_type": "execute_result"
    }
   ],
   "source": [
    "survey[\"MLA_satisfaction\"].value_counts()"
   ]
  },
  {
   "cell_type": "code",
   "execution_count": 11,
   "id": "d27cd7f4",
   "metadata": {},
   "outputs": [
    {
     "data": {
      "text/plain": [
       "0.6046308431629532"
      ]
     },
     "execution_count": 11,
     "metadata": {},
     "output_type": "execute_result"
    }
   ],
   "source": [
    "4152/len(survey)"
   ]
  },
  {
   "cell_type": "code",
   "execution_count": 129,
   "id": "bc363baa",
   "metadata": {},
   "outputs": [
    {
     "data": {
      "text/html": [
       "<div>\n",
       "<style scoped>\n",
       "    .dataframe tbody tr th:only-of-type {\n",
       "        vertical-align: middle;\n",
       "    }\n",
       "\n",
       "    .dataframe tbody tr th {\n",
       "        vertical-align: top;\n",
       "    }\n",
       "\n",
       "    .dataframe thead th {\n",
       "        text-align: right;\n",
       "    }\n",
       "</style>\n",
       "<table border=\"1\" class=\"dataframe\">\n",
       "  <thead>\n",
       "    <tr style=\"text-align: right;\">\n",
       "      <th></th>\n",
       "      <th>MLA_satisfaction</th>\n",
       "    </tr>\n",
       "    <tr>\n",
       "      <th>collection_date</th>\n",
       "      <th></th>\n",
       "    </tr>\n",
       "  </thead>\n",
       "  <tbody>\n",
       "    <tr>\n",
       "      <th>5-24-2017</th>\n",
       "      <td>59.972955</td>\n",
       "    </tr>\n",
       "    <tr>\n",
       "      <th>5-25-2017</th>\n",
       "      <td>63.126253</td>\n",
       "    </tr>\n",
       "    <tr>\n",
       "      <th>5-26-2017</th>\n",
       "      <td>59.030100</td>\n",
       "    </tr>\n",
       "    <tr>\n",
       "      <th>5-27-2017</th>\n",
       "      <td>60.601504</td>\n",
       "    </tr>\n",
       "    <tr>\n",
       "      <th>5-28-2017</th>\n",
       "      <td>60.709593</td>\n",
       "    </tr>\n",
       "    <tr>\n",
       "      <th>5-29-2017</th>\n",
       "      <td>56.451613</td>\n",
       "    </tr>\n",
       "    <tr>\n",
       "      <th>5-30-2017</th>\n",
       "      <td>62.027491</td>\n",
       "    </tr>\n",
       "    <tr>\n",
       "      <th>5-31-2017</th>\n",
       "      <td>57.630162</td>\n",
       "    </tr>\n",
       "    <tr>\n",
       "      <th>6-1-2017</th>\n",
       "      <td>63.426689</td>\n",
       "    </tr>\n",
       "  </tbody>\n",
       "</table>\n",
       "</div>"
      ],
      "text/plain": [
       "                 MLA_satisfaction\n",
       "collection_date                  \n",
       "5-24-2017               59.972955\n",
       "5-25-2017               63.126253\n",
       "5-26-2017               59.030100\n",
       "5-27-2017               60.601504\n",
       "5-28-2017               60.709593\n",
       "5-29-2017               56.451613\n",
       "5-30-2017               62.027491\n",
       "5-31-2017               57.630162\n",
       "6-1-2017                63.426689"
      ]
     },
     "execution_count": 129,
     "metadata": {},
     "output_type": "execute_result"
    }
   ],
   "source": [
    "survey1=pd.DataFrame(survey.groupby(by='collection_date')[['MLA_satisfaction']].apply(lambda x:np.sum(x=='Fully Dissatisfied')/len(x)*100))\n",
    "survey1"
   ]
  },
  {
   "cell_type": "code",
   "execution_count": 199,
   "id": "d001904a",
   "metadata": {},
   "outputs": [
    {
     "data": {
      "text/plain": [
       "<AxesSubplot:xlabel='collection_date'>"
      ]
     },
     "execution_count": 199,
     "metadata": {},
     "output_type": "execute_result"
    },
    {
     "data": {
      "text/plain": [
       "<Figure size 720x1440 with 0 Axes>"
      ]
     },
     "metadata": {},
     "output_type": "display_data"
    },
    {
     "data": {
      "image/png": "[encoded data removed]",
      "text/plain": [
       "<Figure size 432x288 with 1 Axes>"
      ]
     },
     "metadata": {
      "needs_background": "light"
     },
     "output_type": "display_data"
    }
   ],
   "source": [
    "plt.figure(figsize=(10,20))\n",
    "survey1.index\n",
    "survey1.plot()"
   ]
  },
  {
   "cell_type": "markdown",
   "id": "6708010e",
   "metadata": {},
   "source": [
    "* Here using the group by fuction, lambda function and also a using plot graphs."
   ]
  },
  {
   "cell_type": "markdown",
   "id": "ead05b7d",
   "metadata": {},
   "source": [
    "# Question 9 - Create a pivot-table (or crosstab) with index as Past_Vote,Column as Vote_Now and cell values as the count of samples."
   ]
  },
  {
   "cell_type": "code",
   "execution_count": 50,
   "id": "c47885f8",
   "metadata": {},
   "outputs": [],
   "source": [
    "survey2=pd.pivot_table(data=survey,index='Past_Vote',columns='Vote_Now',aggfunc='count',values='response_id')"
   ]
  },
  {
   "cell_type": "code",
   "execution_count": 51,
   "id": "ce67ece2",
   "metadata": {},
   "outputs": [
    {
     "data": {
      "text/html": [
       "<div>\n",
       "<style scoped>\n",
       "    .dataframe tbody tr th:only-of-type {\n",
       "        vertical-align: middle;\n",
       "    }\n",
       "\n",
       "    .dataframe tbody tr th {\n",
       "        vertical-align: top;\n",
       "    }\n",
       "\n",
       "    .dataframe thead th {\n",
       "        text-align: right;\n",
       "    }\n",
       "</style>\n",
       "<table border=\"1\" class=\"dataframe\">\n",
       "  <thead>\n",
       "    <tr style=\"text-align: right;\">\n",
       "      <th>Vote_Now</th>\n",
       "      <th>AAP</th>\n",
       "      <th>AIMIM</th>\n",
       "      <th>BJP</th>\n",
       "      <th>BSP</th>\n",
       "      <th>HAM</th>\n",
       "      <th>INC</th>\n",
       "      <th>JAP(L)</th>\n",
       "      <th>JD(U)</th>\n",
       "      <th>LJP</th>\n",
       "      <th>Left Front</th>\n",
       "      <th>NOTA</th>\n",
       "      <th>Others</th>\n",
       "      <th>Plurals</th>\n",
       "      <th>RJD</th>\n",
       "      <th>RJJP</th>\n",
       "      <th>RLSP</th>\n",
       "      <th>Undecided</th>\n",
       "      <th>VIP</th>\n",
       "    </tr>\n",
       "    <tr>\n",
       "      <th>Past_Vote</th>\n",
       "      <th></th>\n",
       "      <th></th>\n",
       "      <th></th>\n",
       "      <th></th>\n",
       "      <th></th>\n",
       "      <th></th>\n",
       "      <th></th>\n",
       "      <th></th>\n",
       "      <th></th>\n",
       "      <th></th>\n",
       "      <th></th>\n",
       "      <th></th>\n",
       "      <th></th>\n",
       "      <th></th>\n",
       "      <th></th>\n",
       "      <th></th>\n",
       "      <th></th>\n",
       "      <th></th>\n",
       "    </tr>\n",
       "  </thead>\n",
       "  <tbody>\n",
       "    <tr>\n",
       "      <th>BJP</th>\n",
       "      <td>7.0</td>\n",
       "      <td>1.0</td>\n",
       "      <td>1630.0</td>\n",
       "      <td>3.0</td>\n",
       "      <td>5.0</td>\n",
       "      <td>42.0</td>\n",
       "      <td>101.0</td>\n",
       "      <td>110.0</td>\n",
       "      <td>44.0</td>\n",
       "      <td>13.0</td>\n",
       "      <td>194.0</td>\n",
       "      <td>32.0</td>\n",
       "      <td>87.0</td>\n",
       "      <td>370.0</td>\n",
       "      <td>88.0</td>\n",
       "      <td>24.0</td>\n",
       "      <td>62.0</td>\n",
       "      <td>10.0</td>\n",
       "    </tr>\n",
       "    <tr>\n",
       "      <th>BSP</th>\n",
       "      <td>NaN</td>\n",
       "      <td>1.0</td>\n",
       "      <td>2.0</td>\n",
       "      <td>5.0</td>\n",
       "      <td>NaN</td>\n",
       "      <td>1.0</td>\n",
       "      <td>NaN</td>\n",
       "      <td>NaN</td>\n",
       "      <td>NaN</td>\n",
       "      <td>NaN</td>\n",
       "      <td>NaN</td>\n",
       "      <td>NaN</td>\n",
       "      <td>NaN</td>\n",
       "      <td>NaN</td>\n",
       "      <td>NaN</td>\n",
       "      <td>NaN</td>\n",
       "      <td>NaN</td>\n",
       "      <td>NaN</td>\n",
       "    </tr>\n",
       "    <tr>\n",
       "      <th>Did not vote</th>\n",
       "      <td>8.0</td>\n",
       "      <td>5.0</td>\n",
       "      <td>231.0</td>\n",
       "      <td>2.0</td>\n",
       "      <td>1.0</td>\n",
       "      <td>22.0</td>\n",
       "      <td>41.0</td>\n",
       "      <td>69.0</td>\n",
       "      <td>10.0</td>\n",
       "      <td>16.0</td>\n",
       "      <td>83.0</td>\n",
       "      <td>11.0</td>\n",
       "      <td>51.0</td>\n",
       "      <td>195.0</td>\n",
       "      <td>20.0</td>\n",
       "      <td>3.0</td>\n",
       "      <td>31.0</td>\n",
       "      <td>5.0</td>\n",
       "    </tr>\n",
       "    <tr>\n",
       "      <th>HAM</th>\n",
       "      <td>2.0</td>\n",
       "      <td>NaN</td>\n",
       "      <td>25.0</td>\n",
       "      <td>NaN</td>\n",
       "      <td>1.0</td>\n",
       "      <td>NaN</td>\n",
       "      <td>3.0</td>\n",
       "      <td>2.0</td>\n",
       "      <td>2.0</td>\n",
       "      <td>NaN</td>\n",
       "      <td>4.0</td>\n",
       "      <td>NaN</td>\n",
       "      <td>NaN</td>\n",
       "      <td>6.0</td>\n",
       "      <td>4.0</td>\n",
       "      <td>NaN</td>\n",
       "      <td>1.0</td>\n",
       "      <td>NaN</td>\n",
       "    </tr>\n",
       "    <tr>\n",
       "      <th>INC</th>\n",
       "      <td>NaN</td>\n",
       "      <td>6.0</td>\n",
       "      <td>6.0</td>\n",
       "      <td>NaN</td>\n",
       "      <td>NaN</td>\n",
       "      <td>57.0</td>\n",
       "      <td>10.0</td>\n",
       "      <td>9.0</td>\n",
       "      <td>NaN</td>\n",
       "      <td>3.0</td>\n",
       "      <td>6.0</td>\n",
       "      <td>3.0</td>\n",
       "      <td>3.0</td>\n",
       "      <td>100.0</td>\n",
       "      <td>1.0</td>\n",
       "      <td>2.0</td>\n",
       "      <td>7.0</td>\n",
       "      <td>NaN</td>\n",
       "    </tr>\n",
       "    <tr>\n",
       "      <th>JAP(L)</th>\n",
       "      <td>NaN</td>\n",
       "      <td>NaN</td>\n",
       "      <td>4.0</td>\n",
       "      <td>NaN</td>\n",
       "      <td>NaN</td>\n",
       "      <td>NaN</td>\n",
       "      <td>35.0</td>\n",
       "      <td>NaN</td>\n",
       "      <td>NaN</td>\n",
       "      <td>NaN</td>\n",
       "      <td>NaN</td>\n",
       "      <td>1.0</td>\n",
       "      <td>NaN</td>\n",
       "      <td>2.0</td>\n",
       "      <td>NaN</td>\n",
       "      <td>NaN</td>\n",
       "      <td>NaN</td>\n",
       "      <td>NaN</td>\n",
       "    </tr>\n",
       "    <tr>\n",
       "      <th>JD(U)</th>\n",
       "      <td>6.0</td>\n",
       "      <td>10.0</td>\n",
       "      <td>254.0</td>\n",
       "      <td>2.0</td>\n",
       "      <td>2.0</td>\n",
       "      <td>45.0</td>\n",
       "      <td>72.0</td>\n",
       "      <td>279.0</td>\n",
       "      <td>29.0</td>\n",
       "      <td>9.0</td>\n",
       "      <td>90.0</td>\n",
       "      <td>18.0</td>\n",
       "      <td>43.0</td>\n",
       "      <td>435.0</td>\n",
       "      <td>13.0</td>\n",
       "      <td>25.0</td>\n",
       "      <td>36.0</td>\n",
       "      <td>6.0</td>\n",
       "    </tr>\n",
       "    <tr>\n",
       "      <th>LJP</th>\n",
       "      <td>NaN</td>\n",
       "      <td>NaN</td>\n",
       "      <td>76.0</td>\n",
       "      <td>1.0</td>\n",
       "      <td>NaN</td>\n",
       "      <td>4.0</td>\n",
       "      <td>3.0</td>\n",
       "      <td>6.0</td>\n",
       "      <td>9.0</td>\n",
       "      <td>2.0</td>\n",
       "      <td>3.0</td>\n",
       "      <td>NaN</td>\n",
       "      <td>2.0</td>\n",
       "      <td>17.0</td>\n",
       "      <td>1.0</td>\n",
       "      <td>NaN</td>\n",
       "      <td>1.0</td>\n",
       "      <td>NaN</td>\n",
       "    </tr>\n",
       "    <tr>\n",
       "      <th>Left Front</th>\n",
       "      <td>NaN</td>\n",
       "      <td>1.0</td>\n",
       "      <td>2.0</td>\n",
       "      <td>NaN</td>\n",
       "      <td>NaN</td>\n",
       "      <td>1.0</td>\n",
       "      <td>NaN</td>\n",
       "      <td>NaN</td>\n",
       "      <td>NaN</td>\n",
       "      <td>18.0</td>\n",
       "      <td>1.0</td>\n",
       "      <td>1.0</td>\n",
       "      <td>NaN</td>\n",
       "      <td>4.0</td>\n",
       "      <td>NaN</td>\n",
       "      <td>1.0</td>\n",
       "      <td>NaN</td>\n",
       "      <td>1.0</td>\n",
       "    </tr>\n",
       "    <tr>\n",
       "      <th>NOTA</th>\n",
       "      <td>NaN</td>\n",
       "      <td>1.0</td>\n",
       "      <td>29.0</td>\n",
       "      <td>1.0</td>\n",
       "      <td>NaN</td>\n",
       "      <td>9.0</td>\n",
       "      <td>7.0</td>\n",
       "      <td>7.0</td>\n",
       "      <td>3.0</td>\n",
       "      <td>5.0</td>\n",
       "      <td>46.0</td>\n",
       "      <td>7.0</td>\n",
       "      <td>11.0</td>\n",
       "      <td>27.0</td>\n",
       "      <td>5.0</td>\n",
       "      <td>4.0</td>\n",
       "      <td>5.0</td>\n",
       "      <td>NaN</td>\n",
       "    </tr>\n",
       "    <tr>\n",
       "      <th>Others</th>\n",
       "      <td>1.0</td>\n",
       "      <td>5.0</td>\n",
       "      <td>45.0</td>\n",
       "      <td>1.0</td>\n",
       "      <td>1.0</td>\n",
       "      <td>4.0</td>\n",
       "      <td>7.0</td>\n",
       "      <td>4.0</td>\n",
       "      <td>1.0</td>\n",
       "      <td>4.0</td>\n",
       "      <td>10.0</td>\n",
       "      <td>6.0</td>\n",
       "      <td>8.0</td>\n",
       "      <td>21.0</td>\n",
       "      <td>7.0</td>\n",
       "      <td>1.0</td>\n",
       "      <td>6.0</td>\n",
       "      <td>NaN</td>\n",
       "    </tr>\n",
       "    <tr>\n",
       "      <th>RJD</th>\n",
       "      <td>3.0</td>\n",
       "      <td>7.0</td>\n",
       "      <td>46.0</td>\n",
       "      <td>NaN</td>\n",
       "      <td>1.0</td>\n",
       "      <td>31.0</td>\n",
       "      <td>31.0</td>\n",
       "      <td>39.0</td>\n",
       "      <td>4.0</td>\n",
       "      <td>9.0</td>\n",
       "      <td>18.0</td>\n",
       "      <td>8.0</td>\n",
       "      <td>10.0</td>\n",
       "      <td>811.0</td>\n",
       "      <td>1.0</td>\n",
       "      <td>10.0</td>\n",
       "      <td>14.0</td>\n",
       "      <td>4.0</td>\n",
       "    </tr>\n",
       "    <tr>\n",
       "      <th>RLSP</th>\n",
       "      <td>NaN</td>\n",
       "      <td>NaN</td>\n",
       "      <td>17.0</td>\n",
       "      <td>NaN</td>\n",
       "      <td>NaN</td>\n",
       "      <td>NaN</td>\n",
       "      <td>3.0</td>\n",
       "      <td>NaN</td>\n",
       "      <td>NaN</td>\n",
       "      <td>NaN</td>\n",
       "      <td>3.0</td>\n",
       "      <td>NaN</td>\n",
       "      <td>2.0</td>\n",
       "      <td>8.0</td>\n",
       "      <td>2.0</td>\n",
       "      <td>12.0</td>\n",
       "      <td>1.0</td>\n",
       "      <td>1.0</td>\n",
       "    </tr>\n",
       "    <tr>\n",
       "      <th>VIP</th>\n",
       "      <td>NaN</td>\n",
       "      <td>NaN</td>\n",
       "      <td>NaN</td>\n",
       "      <td>NaN</td>\n",
       "      <td>NaN</td>\n",
       "      <td>NaN</td>\n",
       "      <td>NaN</td>\n",
       "      <td>1.0</td>\n",
       "      <td>NaN</td>\n",
       "      <td>NaN</td>\n",
       "      <td>NaN</td>\n",
       "      <td>NaN</td>\n",
       "      <td>NaN</td>\n",
       "      <td>NaN</td>\n",
       "      <td>NaN</td>\n",
       "      <td>NaN</td>\n",
       "      <td>NaN</td>\n",
       "      <td>1.0</td>\n",
       "    </tr>\n",
       "  </tbody>\n",
       "</table>\n",
       "</div>"
      ],
      "text/plain": [
       "Vote_Now      AAP  AIMIM     BJP  BSP  HAM   INC  JAP(L)  JD(U)   LJP  \\\n",
       "Past_Vote                                                               \n",
       "BJP           7.0    1.0  1630.0  3.0  5.0  42.0   101.0  110.0  44.0   \n",
       "BSP           NaN    1.0     2.0  5.0  NaN   1.0     NaN    NaN   NaN   \n",
       "Did not vote  8.0    5.0   231.0  2.0  1.0  22.0    41.0   69.0  10.0   \n",
       "HAM           2.0    NaN    25.0  NaN  1.0   NaN     3.0    2.0   2.0   \n",
       "INC           NaN    6.0     6.0  NaN  NaN  57.0    10.0    9.0   NaN   \n",
       "JAP(L)        NaN    NaN     4.0  NaN  NaN   NaN    35.0    NaN   NaN   \n",
       "JD(U)         6.0   10.0   254.0  2.0  2.0  45.0    72.0  279.0  29.0   \n",
       "LJP           NaN    NaN    76.0  1.0  NaN   4.0     3.0    6.0   9.0   \n",
       "Left Front    NaN    1.0     2.0  NaN  NaN   1.0     NaN    NaN   NaN   \n",
       "NOTA          NaN    1.0    29.0  1.0  NaN   9.0     7.0    7.0   3.0   \n",
       "Others        1.0    5.0    45.0  1.0  1.0   4.0     7.0    4.0   1.0   \n",
       "RJD           3.0    7.0    46.0  NaN  1.0  31.0    31.0   39.0   4.0   \n",
       "RLSP          NaN    NaN    17.0  NaN  NaN   NaN     3.0    NaN   NaN   \n",
       "VIP           NaN    NaN     NaN  NaN  NaN   NaN     NaN    1.0   NaN   \n",
       "\n",
       "Vote_Now      Left Front   NOTA  Others  Plurals    RJD  RJJP  RLSP  \\\n",
       "Past_Vote                                                             \n",
       "BJP                 13.0  194.0    32.0     87.0  370.0  88.0  24.0   \n",
       "BSP                  NaN    NaN     NaN      NaN    NaN   NaN   NaN   \n",
       "Did not vote        16.0   83.0    11.0     51.0  195.0  20.0   3.0   \n",
       "HAM                  NaN    4.0     NaN      NaN    6.0   4.0   NaN   \n",
       "INC                  3.0    6.0     3.0      3.0  100.0   1.0   2.0   \n",
       "JAP(L)               NaN    NaN     1.0      NaN    2.0   NaN   NaN   \n",
       "JD(U)                9.0   90.0    18.0     43.0  435.0  13.0  25.0   \n",
       "LJP                  2.0    3.0     NaN      2.0   17.0   1.0   NaN   \n",
       "Left Front          18.0    1.0     1.0      NaN    4.0   NaN   1.0   \n",
       "NOTA                 5.0   46.0     7.0     11.0   27.0   5.0   4.0   \n",
       "Others               4.0   10.0     6.0      8.0   21.0   7.0   1.0   \n",
       "RJD                  9.0   18.0     8.0     10.0  811.0   1.0  10.0   \n",
       "RLSP                 NaN    3.0     NaN      2.0    8.0   2.0  12.0   \n",
       "VIP                  NaN    NaN     NaN      NaN    NaN   NaN   NaN   \n",
       "\n",
       "Vote_Now      Undecided   VIP  \n",
       "Past_Vote                      \n",
       "BJP                62.0  10.0  \n",
       "BSP                 NaN   NaN  \n",
       "Did not vote       31.0   5.0  \n",
       "HAM                 1.0   NaN  \n",
       "INC                 7.0   NaN  \n",
       "JAP(L)              NaN   NaN  \n",
       "JD(U)              36.0   6.0  \n",
       "LJP                 1.0   NaN  \n",
       "Left Front          NaN   1.0  \n",
       "NOTA                5.0   NaN  \n",
       "Others              6.0   NaN  \n",
       "RJD                14.0   4.0  \n",
       "RLSP                1.0   1.0  \n",
       "VIP                 NaN   1.0  "
      ]
     },
     "execution_count": 51,
     "metadata": {},
     "output_type": "execute_result"
    }
   ],
   "source": [
    "survey2"
   ]
  },
  {
   "cell_type": "markdown",
   "id": "3636ed92",
   "metadata": {},
   "source": [
    "# Question 10 - Repeat the above question with the cell values as the sum of “weight”."
   ]
  },
  {
   "cell_type": "code",
   "execution_count": 197,
   "id": "fc82906b",
   "metadata": {},
   "outputs": [
    {
     "data": {
      "text/html": [
       "<div>\n",
       "<style scoped>\n",
       "    .dataframe tbody tr th:only-of-type {\n",
       "        vertical-align: middle;\n",
       "    }\n",
       "\n",
       "    .dataframe tbody tr th {\n",
       "        vertical-align: top;\n",
       "    }\n",
       "\n",
       "    .dataframe thead th {\n",
       "        text-align: right;\n",
       "    }\n",
       "</style>\n",
       "<table border=\"1\" class=\"dataframe\">\n",
       "  <thead>\n",
       "    <tr style=\"text-align: right;\">\n",
       "      <th>Vote_Now</th>\n",
       "      <th>AAP</th>\n",
       "      <th>AIMIM</th>\n",
       "      <th>BJP</th>\n",
       "      <th>BSP</th>\n",
       "      <th>HAM</th>\n",
       "      <th>INC</th>\n",
       "      <th>JAP(L)</th>\n",
       "      <th>JD(U)</th>\n",
       "      <th>LJP</th>\n",
       "      <th>Left Front</th>\n",
       "      <th>NOTA</th>\n",
       "      <th>Others</th>\n",
       "      <th>Plurals</th>\n",
       "      <th>RJD</th>\n",
       "      <th>RJJP</th>\n",
       "      <th>RLSP</th>\n",
       "      <th>Undecided</th>\n",
       "      <th>VIP</th>\n",
       "    </tr>\n",
       "    <tr>\n",
       "      <th>Past_Vote</th>\n",
       "      <th></th>\n",
       "      <th></th>\n",
       "      <th></th>\n",
       "      <th></th>\n",
       "      <th></th>\n",
       "      <th></th>\n",
       "      <th></th>\n",
       "      <th></th>\n",
       "      <th></th>\n",
       "      <th></th>\n",
       "      <th></th>\n",
       "      <th></th>\n",
       "      <th></th>\n",
       "      <th></th>\n",
       "      <th></th>\n",
       "      <th></th>\n",
       "      <th></th>\n",
       "      <th></th>\n",
       "    </tr>\n",
       "  </thead>\n",
       "  <tbody>\n",
       "    <tr>\n",
       "      <th>BJP</th>\n",
       "      <td>4.807335</td>\n",
       "      <td>0.349996</td>\n",
       "      <td>1049.344112</td>\n",
       "      <td>0.452551</td>\n",
       "      <td>10.171283</td>\n",
       "      <td>50.055502</td>\n",
       "      <td>63.832368</td>\n",
       "      <td>68.029581</td>\n",
       "      <td>45.716215</td>\n",
       "      <td>7.537394</td>\n",
       "      <td>114.913686</td>\n",
       "      <td>8.790137</td>\n",
       "      <td>50.016163</td>\n",
       "      <td>250.948101</td>\n",
       "      <td>16.047570</td>\n",
       "      <td>18.715113</td>\n",
       "      <td>41.286954</td>\n",
       "      <td>18.691691</td>\n",
       "    </tr>\n",
       "    <tr>\n",
       "      <th>BSP</th>\n",
       "      <td>NaN</td>\n",
       "      <td>1.654731</td>\n",
       "      <td>5.174487</td>\n",
       "      <td>32.010277</td>\n",
       "      <td>NaN</td>\n",
       "      <td>2.298223</td>\n",
       "      <td>NaN</td>\n",
       "      <td>NaN</td>\n",
       "      <td>NaN</td>\n",
       "      <td>NaN</td>\n",
       "      <td>NaN</td>\n",
       "      <td>NaN</td>\n",
       "      <td>NaN</td>\n",
       "      <td>NaN</td>\n",
       "      <td>NaN</td>\n",
       "      <td>NaN</td>\n",
       "      <td>NaN</td>\n",
       "      <td>NaN</td>\n",
       "    </tr>\n",
       "    <tr>\n",
       "      <th>Did not vote</th>\n",
       "      <td>8.865896</td>\n",
       "      <td>5.379527</td>\n",
       "      <td>114.203906</td>\n",
       "      <td>3.329611</td>\n",
       "      <td>2.497170</td>\n",
       "      <td>27.791290</td>\n",
       "      <td>26.359190</td>\n",
       "      <td>58.983458</td>\n",
       "      <td>11.801813</td>\n",
       "      <td>13.050113</td>\n",
       "      <td>44.725179</td>\n",
       "      <td>7.289933</td>\n",
       "      <td>25.319524</td>\n",
       "      <td>173.882525</td>\n",
       "      <td>4.349832</td>\n",
       "      <td>5.041587</td>\n",
       "      <td>22.015457</td>\n",
       "      <td>10.696552</td>\n",
       "    </tr>\n",
       "    <tr>\n",
       "      <th>HAM</th>\n",
       "      <td>0.312607</td>\n",
       "      <td>NaN</td>\n",
       "      <td>25.348884</td>\n",
       "      <td>NaN</td>\n",
       "      <td>1.648856</td>\n",
       "      <td>NaN</td>\n",
       "      <td>0.712161</td>\n",
       "      <td>1.006719</td>\n",
       "      <td>2.496424</td>\n",
       "      <td>NaN</td>\n",
       "      <td>0.928984</td>\n",
       "      <td>NaN</td>\n",
       "      <td>NaN</td>\n",
       "      <td>7.713008</td>\n",
       "      <td>1.903148</td>\n",
       "      <td>NaN</td>\n",
       "      <td>0.039564</td>\n",
       "      <td>NaN</td>\n",
       "    </tr>\n",
       "    <tr>\n",
       "      <th>INC</th>\n",
       "      <td>NaN</td>\n",
       "      <td>11.105958</td>\n",
       "      <td>1.642875</td>\n",
       "      <td>NaN</td>\n",
       "      <td>NaN</td>\n",
       "      <td>161.742302</td>\n",
       "      <td>18.942597</td>\n",
       "      <td>11.077323</td>\n",
       "      <td>NaN</td>\n",
       "      <td>6.268726</td>\n",
       "      <td>5.999014</td>\n",
       "      <td>1.552038</td>\n",
       "      <td>1.588527</td>\n",
       "      <td>195.020050</td>\n",
       "      <td>5.340403</td>\n",
       "      <td>1.140299</td>\n",
       "      <td>8.558475</td>\n",
       "      <td>NaN</td>\n",
       "    </tr>\n",
       "    <tr>\n",
       "      <th>JAP(L)</th>\n",
       "      <td>NaN</td>\n",
       "      <td>NaN</td>\n",
       "      <td>6.512846</td>\n",
       "      <td>NaN</td>\n",
       "      <td>NaN</td>\n",
       "      <td>NaN</td>\n",
       "      <td>57.876224</td>\n",
       "      <td>NaN</td>\n",
       "      <td>NaN</td>\n",
       "      <td>NaN</td>\n",
       "      <td>NaN</td>\n",
       "      <td>3.195682</td>\n",
       "      <td>NaN</td>\n",
       "      <td>2.164824</td>\n",
       "      <td>NaN</td>\n",
       "      <td>NaN</td>\n",
       "      <td>NaN</td>\n",
       "      <td>NaN</td>\n",
       "    </tr>\n",
       "    <tr>\n",
       "      <th>JD(U)</th>\n",
       "      <td>12.457216</td>\n",
       "      <td>29.198610</td>\n",
       "      <td>156.243100</td>\n",
       "      <td>11.005903</td>\n",
       "      <td>2.639574</td>\n",
       "      <td>91.806262</td>\n",
       "      <td>106.217216</td>\n",
       "      <td>498.796862</td>\n",
       "      <td>33.148113</td>\n",
       "      <td>11.765603</td>\n",
       "      <td>61.109706</td>\n",
       "      <td>29.196072</td>\n",
       "      <td>45.175289</td>\n",
       "      <td>657.155514</td>\n",
       "      <td>4.015909</td>\n",
       "      <td>44.376194</td>\n",
       "      <td>58.137833</td>\n",
       "      <td>20.675288</td>\n",
       "    </tr>\n",
       "    <tr>\n",
       "      <th>LJP</th>\n",
       "      <td>NaN</td>\n",
       "      <td>NaN</td>\n",
       "      <td>85.010450</td>\n",
       "      <td>2.481377</td>\n",
       "      <td>NaN</td>\n",
       "      <td>21.613385</td>\n",
       "      <td>7.375946</td>\n",
       "      <td>11.382812</td>\n",
       "      <td>26.868529</td>\n",
       "      <td>1.712452</td>\n",
       "      <td>0.813171</td>\n",
       "      <td>NaN</td>\n",
       "      <td>1.927965</td>\n",
       "      <td>30.737989</td>\n",
       "      <td>0.478933</td>\n",
       "      <td>NaN</td>\n",
       "      <td>1.709409</td>\n",
       "      <td>NaN</td>\n",
       "    </tr>\n",
       "    <tr>\n",
       "      <th>Left Front</th>\n",
       "      <td>NaN</td>\n",
       "      <td>2.298223</td>\n",
       "      <td>0.209586</td>\n",
       "      <td>NaN</td>\n",
       "      <td>NaN</td>\n",
       "      <td>2.291368</td>\n",
       "      <td>NaN</td>\n",
       "      <td>NaN</td>\n",
       "      <td>NaN</td>\n",
       "      <td>44.280864</td>\n",
       "      <td>0.201455</td>\n",
       "      <td>8.309203</td>\n",
       "      <td>NaN</td>\n",
       "      <td>6.740281</td>\n",
       "      <td>NaN</td>\n",
       "      <td>0.877960</td>\n",
       "      <td>NaN</td>\n",
       "      <td>3.020887</td>\n",
       "    </tr>\n",
       "    <tr>\n",
       "      <th>NOTA</th>\n",
       "      <td>NaN</td>\n",
       "      <td>1.061204</td>\n",
       "      <td>12.685435</td>\n",
       "      <td>0.051485</td>\n",
       "      <td>NaN</td>\n",
       "      <td>3.844332</td>\n",
       "      <td>8.645440</td>\n",
       "      <td>12.132362</td>\n",
       "      <td>1.353138</td>\n",
       "      <td>2.863587</td>\n",
       "      <td>35.310377</td>\n",
       "      <td>13.594657</td>\n",
       "      <td>3.676105</td>\n",
       "      <td>20.552066</td>\n",
       "      <td>1.116006</td>\n",
       "      <td>4.502676</td>\n",
       "      <td>1.570309</td>\n",
       "      <td>NaN</td>\n",
       "    </tr>\n",
       "    <tr>\n",
       "      <th>Others</th>\n",
       "      <td>13.661335</td>\n",
       "      <td>21.212705</td>\n",
       "      <td>34.866218</td>\n",
       "      <td>0.684568</td>\n",
       "      <td>1.505864</td>\n",
       "      <td>1.389539</td>\n",
       "      <td>5.333891</td>\n",
       "      <td>5.101976</td>\n",
       "      <td>2.481377</td>\n",
       "      <td>4.017150</td>\n",
       "      <td>9.419087</td>\n",
       "      <td>8.236678</td>\n",
       "      <td>2.715087</td>\n",
       "      <td>38.194805</td>\n",
       "      <td>1.754671</td>\n",
       "      <td>3.800565</td>\n",
       "      <td>2.504778</td>\n",
       "      <td>NaN</td>\n",
       "    </tr>\n",
       "    <tr>\n",
       "      <th>RJD</th>\n",
       "      <td>5.515847</td>\n",
       "      <td>24.149369</td>\n",
       "      <td>32.285093</td>\n",
       "      <td>NaN</td>\n",
       "      <td>0.960400</td>\n",
       "      <td>67.072640</td>\n",
       "      <td>28.661774</td>\n",
       "      <td>55.385673</td>\n",
       "      <td>9.226178</td>\n",
       "      <td>35.399702</td>\n",
       "      <td>25.113668</td>\n",
       "      <td>14.999222</td>\n",
       "      <td>14.179660</td>\n",
       "      <td>1016.975742</td>\n",
       "      <td>0.085758</td>\n",
       "      <td>10.752145</td>\n",
       "      <td>21.523115</td>\n",
       "      <td>13.161145</td>\n",
       "    </tr>\n",
       "    <tr>\n",
       "      <th>RLSP</th>\n",
       "      <td>NaN</td>\n",
       "      <td>NaN</td>\n",
       "      <td>23.376575</td>\n",
       "      <td>NaN</td>\n",
       "      <td>NaN</td>\n",
       "      <td>NaN</td>\n",
       "      <td>3.269255</td>\n",
       "      <td>NaN</td>\n",
       "      <td>NaN</td>\n",
       "      <td>NaN</td>\n",
       "      <td>1.097574</td>\n",
       "      <td>NaN</td>\n",
       "      <td>0.499403</td>\n",
       "      <td>14.951502</td>\n",
       "      <td>1.955662</td>\n",
       "      <td>23.505807</td>\n",
       "      <td>3.524302</td>\n",
       "      <td>8.258391</td>\n",
       "    </tr>\n",
       "    <tr>\n",
       "      <th>VIP</th>\n",
       "      <td>NaN</td>\n",
       "      <td>NaN</td>\n",
       "      <td>NaN</td>\n",
       "      <td>NaN</td>\n",
       "      <td>NaN</td>\n",
       "      <td>NaN</td>\n",
       "      <td>NaN</td>\n",
       "      <td>0.333505</td>\n",
       "      <td>NaN</td>\n",
       "      <td>NaN</td>\n",
       "      <td>NaN</td>\n",
       "      <td>NaN</td>\n",
       "      <td>NaN</td>\n",
       "      <td>NaN</td>\n",
       "      <td>NaN</td>\n",
       "      <td>NaN</td>\n",
       "      <td>NaN</td>\n",
       "      <td>0.372959</td>\n",
       "    </tr>\n",
       "  </tbody>\n",
       "</table>\n",
       "</div>"
      ],
      "text/plain": [
       "Vote_Now            AAP      AIMIM          BJP        BSP        HAM  \\\n",
       "Past_Vote                                                               \n",
       "BJP            4.807335   0.349996  1049.344112   0.452551  10.171283   \n",
       "BSP                 NaN   1.654731     5.174487  32.010277        NaN   \n",
       "Did not vote   8.865896   5.379527   114.203906   3.329611   2.497170   \n",
       "HAM            0.312607        NaN    25.348884        NaN   1.648856   \n",
       "INC                 NaN  11.105958     1.642875        NaN        NaN   \n",
       "JAP(L)              NaN        NaN     6.512846        NaN        NaN   \n",
       "JD(U)         12.457216  29.198610   156.243100  11.005903   2.639574   \n",
       "LJP                 NaN        NaN    85.010450   2.481377        NaN   \n",
       "Left Front          NaN   2.298223     0.209586        NaN        NaN   \n",
       "NOTA                NaN   1.061204    12.685435   0.051485        NaN   \n",
       "Others        13.661335  21.212705    34.866218   0.684568   1.505864   \n",
       "RJD            5.515847  24.149369    32.285093        NaN   0.960400   \n",
       "RLSP                NaN        NaN    23.376575        NaN        NaN   \n",
       "VIP                 NaN        NaN          NaN        NaN        NaN   \n",
       "\n",
       "Vote_Now             INC      JAP(L)       JD(U)        LJP  Left Front  \\\n",
       "Past_Vote                                                                 \n",
       "BJP            50.055502   63.832368   68.029581  45.716215    7.537394   \n",
       "BSP             2.298223         NaN         NaN        NaN         NaN   \n",
       "Did not vote   27.791290   26.359190   58.983458  11.801813   13.050113   \n",
       "HAM                  NaN    0.712161    1.006719   2.496424         NaN   \n",
       "INC           161.742302   18.942597   11.077323        NaN    6.268726   \n",
       "JAP(L)               NaN   57.876224         NaN        NaN         NaN   \n",
       "JD(U)          91.806262  106.217216  498.796862  33.148113   11.765603   \n",
       "LJP            21.613385    7.375946   11.382812  26.868529    1.712452   \n",
       "Left Front      2.291368         NaN         NaN        NaN   44.280864   \n",
       "NOTA            3.844332    8.645440   12.132362   1.353138    2.863587   \n",
       "Others          1.389539    5.333891    5.101976   2.481377    4.017150   \n",
       "RJD            67.072640   28.661774   55.385673   9.226178   35.399702   \n",
       "RLSP                 NaN    3.269255         NaN        NaN         NaN   \n",
       "VIP                  NaN         NaN    0.333505        NaN         NaN   \n",
       "\n",
       "Vote_Now            NOTA     Others    Plurals          RJD       RJJP  \\\n",
       "Past_Vote                                                                \n",
       "BJP           114.913686   8.790137  50.016163   250.948101  16.047570   \n",
       "BSP                  NaN        NaN        NaN          NaN        NaN   \n",
       "Did not vote   44.725179   7.289933  25.319524   173.882525   4.349832   \n",
       "HAM             0.928984        NaN        NaN     7.713008   1.903148   \n",
       "INC             5.999014   1.552038   1.588527   195.020050   5.340403   \n",
       "JAP(L)               NaN   3.195682        NaN     2.164824        NaN   \n",
       "JD(U)          61.109706  29.196072  45.175289   657.155514   4.015909   \n",
       "LJP             0.813171        NaN   1.927965    30.737989   0.478933   \n",
       "Left Front      0.201455   8.309203        NaN     6.740281        NaN   \n",
       "NOTA           35.310377  13.594657   3.676105    20.552066   1.116006   \n",
       "Others          9.419087   8.236678   2.715087    38.194805   1.754671   \n",
       "RJD            25.113668  14.999222  14.179660  1016.975742   0.085758   \n",
       "RLSP            1.097574        NaN   0.499403    14.951502   1.955662   \n",
       "VIP                  NaN        NaN        NaN          NaN        NaN   \n",
       "\n",
       "Vote_Now           RLSP  Undecided        VIP  \n",
       "Past_Vote                                      \n",
       "BJP           18.715113  41.286954  18.691691  \n",
       "BSP                 NaN        NaN        NaN  \n",
       "Did not vote   5.041587  22.015457  10.696552  \n",
       "HAM                 NaN   0.039564        NaN  \n",
       "INC            1.140299   8.558475        NaN  \n",
       "JAP(L)              NaN        NaN        NaN  \n",
       "JD(U)         44.376194  58.137833  20.675288  \n",
       "LJP                 NaN   1.709409        NaN  \n",
       "Left Front     0.877960        NaN   3.020887  \n",
       "NOTA           4.502676   1.570309        NaN  \n",
       "Others         3.800565   2.504778        NaN  \n",
       "RJD           10.752145  21.523115  13.161145  \n",
       "RLSP          23.505807   3.524302   8.258391  \n",
       "VIP                 NaN        NaN   0.372959  "
      ]
     },
     "execution_count": 197,
     "metadata": {},
     "output_type": "execute_result"
    }
   ],
   "source": [
    "survey=pd.pivot_table(data=survey,columns='Vote_Now',index='Past_Vote',aggfunc='sum',values='weight')\n",
    "survey"
   ]
  },
  {
   "cell_type": "markdown",
   "id": "fbce531c",
   "metadata": {},
   "source": [
    "# Question 11 - Create a dataframe by performing a group by over age_group and calculate the count of total samples under each age_group.\n",
    "\n"
   ]
  },
  {
   "cell_type": "code",
   "execution_count": 31,
   "id": "5d4433d7",
   "metadata": {},
   "outputs": [
    {
     "data": {
      "text/html": [
       "<div>\n",
       "<style scoped>\n",
       "    .dataframe tbody tr th:only-of-type {\n",
       "        vertical-align: middle;\n",
       "    }\n",
       "\n",
       "    .dataframe tbody tr th {\n",
       "        vertical-align: top;\n",
       "    }\n",
       "\n",
       "    .dataframe thead tr th {\n",
       "        text-align: left;\n",
       "    }\n",
       "\n",
       "    .dataframe thead tr:last-of-type th {\n",
       "        text-align: right;\n",
       "    }\n",
       "</style>\n",
       "<table border=\"1\" class=\"dataframe\">\n",
       "  <thead>\n",
       "    <tr>\n",
       "      <th></th>\n",
       "      <th>response_id</th>\n",
       "    </tr>\n",
       "    <tr>\n",
       "      <th></th>\n",
       "      <th>count</th>\n",
       "    </tr>\n",
       "    <tr>\n",
       "      <th>age_group</th>\n",
       "      <th></th>\n",
       "    </tr>\n",
       "  </thead>\n",
       "  <tbody>\n",
       "    <tr>\n",
       "      <th>18-25</th>\n",
       "      <td>2567</td>\n",
       "    </tr>\n",
       "    <tr>\n",
       "      <th>25-40</th>\n",
       "      <td>3423</td>\n",
       "    </tr>\n",
       "    <tr>\n",
       "      <th>40-55</th>\n",
       "      <td>644</td>\n",
       "    </tr>\n",
       "    <tr>\n",
       "      <th>56-100</th>\n",
       "      <td>108</td>\n",
       "    </tr>\n",
       "  </tbody>\n",
       "</table>\n",
       "</div>"
      ],
      "text/plain": [
       "          response_id\n",
       "                count\n",
       "age_group            \n",
       "18-25            2567\n",
       "25-40            3423\n",
       "40-55             644\n",
       "56-100            108"
      ]
     },
     "execution_count": 31,
     "metadata": {},
     "output_type": "execute_result"
    }
   ],
   "source": [
    "survey2=pd.DataFrame(survey.groupby('age_group')[[\"response_id\"]].agg([\"count\"]))\n",
    "survey2"
   ]
  },
  {
   "cell_type": "markdown",
   "id": "5544a756",
   "metadata": {},
   "source": [
    "# Question 12 - Create a dataframe by performing a group by over age_group and finding the count of total samples for each age_group that opted for the JD(U) party in Vote_Now."
   ]
  },
  {
   "cell_type": "code",
   "execution_count": 35,
   "id": "7eef6c3e",
   "metadata": {},
   "outputs": [
    {
     "data": {
      "text/plain": [
       "18"
      ]
     },
     "execution_count": 35,
     "metadata": {},
     "output_type": "execute_result"
    }
   ],
   "source": [
    "s=survey.groupby(\"Vote_Now\")\n",
    "s.ngroups"
   ]
  },
  {
   "cell_type": "code",
   "execution_count": 37,
   "id": "c00af765",
   "metadata": {},
   "outputs": [
    {
     "data": {
      "text/plain": [
       "509"
      ]
     },
     "execution_count": 37,
     "metadata": {},
     "output_type": "execute_result"
    }
   ],
   "source": [
    "s.get_group(\"JD(U)\")[\"age_group\"].count()"
   ]
  },
  {
   "cell_type": "code",
   "execution_count": 42,
   "id": "b00a9116",
   "metadata": {},
   "outputs": [
    {
     "data": {
      "text/html": [
       "<div>\n",
       "<style scoped>\n",
       "    .dataframe tbody tr th:only-of-type {\n",
       "        vertical-align: middle;\n",
       "    }\n",
       "\n",
       "    .dataframe tbody tr th {\n",
       "        vertical-align: top;\n",
       "    }\n",
       "\n",
       "    .dataframe thead th {\n",
       "        text-align: right;\n",
       "    }\n",
       "</style>\n",
       "<table border=\"1\" class=\"dataframe\">\n",
       "  <thead>\n",
       "    <tr style=\"text-align: right;\">\n",
       "      <th></th>\n",
       "      <th>Vote_Now</th>\n",
       "    </tr>\n",
       "    <tr>\n",
       "      <th>age_group</th>\n",
       "      <th></th>\n",
       "    </tr>\n",
       "  </thead>\n",
       "  <tbody>\n",
       "    <tr>\n",
       "      <th>18-25</th>\n",
       "      <td>199</td>\n",
       "    </tr>\n",
       "    <tr>\n",
       "      <th>25-40</th>\n",
       "      <td>245</td>\n",
       "    </tr>\n",
       "    <tr>\n",
       "      <th>40-55</th>\n",
       "      <td>55</td>\n",
       "    </tr>\n",
       "    <tr>\n",
       "      <th>56-100</th>\n",
       "      <td>10</td>\n",
       "    </tr>\n",
       "  </tbody>\n",
       "</table>\n",
       "</div>"
      ],
      "text/plain": [
       "           Vote_Now\n",
       "age_group          \n",
       "18-25           199\n",
       "25-40           245\n",
       "40-55            55\n",
       "56-100           10"
      ]
     },
     "execution_count": 42,
     "metadata": {},
     "output_type": "execute_result"
    }
   ],
   "source": [
    "survey3=pd.DataFrame(survey[survey['Vote_Now']=='JD(U)'].groupby('age_group')['Vote_Now'].count())\n",
    "survey3"
   ]
  },
  {
   "cell_type": "markdown",
   "id": "2e6fe765",
   "metadata": {},
   "source": [
    "# Question 13 - Join/Merge the two dataframes from questions 12 and 11 with the common column as age_group."
   ]
  },
  {
   "cell_type": "code",
   "execution_count": 43,
   "id": "1a6f20d4",
   "metadata": {},
   "outputs": [
    {
     "data": {
      "text/html": [
       "<div>\n",
       "<style scoped>\n",
       "    .dataframe tbody tr th:only-of-type {\n",
       "        vertical-align: middle;\n",
       "    }\n",
       "\n",
       "    .dataframe tbody tr th {\n",
       "        vertical-align: top;\n",
       "    }\n",
       "\n",
       "    .dataframe thead th {\n",
       "        text-align: right;\n",
       "    }\n",
       "</style>\n",
       "<table border=\"1\" class=\"dataframe\">\n",
       "  <thead>\n",
       "    <tr style=\"text-align: right;\">\n",
       "      <th></th>\n",
       "      <th>(response_id, count)</th>\n",
       "      <th>Vote_Now</th>\n",
       "    </tr>\n",
       "    <tr>\n",
       "      <th>age_group</th>\n",
       "      <th></th>\n",
       "      <th></th>\n",
       "    </tr>\n",
       "  </thead>\n",
       "  <tbody>\n",
       "    <tr>\n",
       "      <th>18-25</th>\n",
       "      <td>2567</td>\n",
       "      <td>199</td>\n",
       "    </tr>\n",
       "    <tr>\n",
       "      <th>25-40</th>\n",
       "      <td>3423</td>\n",
       "      <td>245</td>\n",
       "    </tr>\n",
       "    <tr>\n",
       "      <th>40-55</th>\n",
       "      <td>644</td>\n",
       "      <td>55</td>\n",
       "    </tr>\n",
       "    <tr>\n",
       "      <th>56-100</th>\n",
       "      <td>108</td>\n",
       "      <td>10</td>\n",
       "    </tr>\n",
       "  </tbody>\n",
       "</table>\n",
       "</div>"
      ],
      "text/plain": [
       "           (response_id, count)  Vote_Now\n",
       "age_group                                \n",
       "18-25                      2567       199\n",
       "25-40                      3423       245\n",
       "40-55                       644        55\n",
       "56-100                      108        10"
      ]
     },
     "execution_count": 43,
     "metadata": {},
     "output_type": "execute_result"
    }
   ],
   "source": [
    "pd.merge(survey2,survey3,on='age_group')"
   ]
  },
  {
   "cell_type": "markdown",
   "id": "4b8abd29",
   "metadata": {},
   "source": [
    "# Question 14 - Perform Univariate analysis and write down the observations for each."
   ]
  },
  {
   "cell_type": "markdown",
   "id": "bca52f9a",
   "metadata": {},
   "source": [
    "# 1. Hist Plot"
   ]
  },
  {
   "cell_type": "code",
   "execution_count": 95,
   "id": "33c2efca",
   "metadata": {},
   "outputs": [
    {
     "data": {
      "text/html": [
       "<div>\n",
       "<style scoped>\n",
       "    .dataframe tbody tr th:only-of-type {\n",
       "        vertical-align: middle;\n",
       "    }\n",
       "\n",
       "    .dataframe tbody tr th {\n",
       "        vertical-align: top;\n",
       "    }\n",
       "\n",
       "    .dataframe thead th {\n",
       "        text-align: right;\n",
       "    }\n",
       "</style>\n",
       "<table border=\"1\" class=\"dataframe\">\n",
       "  <thead>\n",
       "    <tr style=\"text-align: right;\">\n",
       "      <th></th>\n",
       "      <th>response_id</th>\n",
       "      <th>collection_date</th>\n",
       "      <th>urban_rural</th>\n",
       "      <th>education</th>\n",
       "      <th>income</th>\n",
       "      <th>Vote_Now</th>\n",
       "      <th>Past_Vote</th>\n",
       "      <th>CM_satisfaction</th>\n",
       "      <th>MLA_satisfaction</th>\n",
       "      <th>age</th>\n",
       "      <th>gender</th>\n",
       "      <th>assembly_no</th>\n",
       "      <th>category</th>\n",
       "      <th>weight</th>\n",
       "      <th>age_group</th>\n",
       "    </tr>\n",
       "  </thead>\n",
       "  <tbody>\n",
       "    <tr>\n",
       "      <th>0</th>\n",
       "      <td>1</td>\n",
       "      <td>5-24-2017</td>\n",
       "      <td>Rural</td>\n",
       "      <td>12th Pass</td>\n",
       "      <td>₹ 30,000 - ₹ 50,000</td>\n",
       "      <td>BJP</td>\n",
       "      <td>BJP</td>\n",
       "      <td>Fully Dissatisfied</td>\n",
       "      <td>Fully Dissatisfied</td>\n",
       "      <td>26</td>\n",
       "      <td>Male</td>\n",
       "      <td>211</td>\n",
       "      <td>Gen</td>\n",
       "      <td>0.346969</td>\n",
       "      <td>25-40</td>\n",
       "    </tr>\n",
       "    <tr>\n",
       "      <th>1</th>\n",
       "      <td>2</td>\n",
       "      <td>5-24-2017</td>\n",
       "      <td>Rural</td>\n",
       "      <td>Graduate</td>\n",
       "      <td>₹ 20,000 - ₹ 30,000</td>\n",
       "      <td>RLSP</td>\n",
       "      <td>JD(U)</td>\n",
       "      <td>Somewhat Satisfied</td>\n",
       "      <td>Fully Dissatisfied</td>\n",
       "      <td>34</td>\n",
       "      <td>Male</td>\n",
       "      <td>189</td>\n",
       "      <td>BC</td>\n",
       "      <td>0.603419</td>\n",
       "      <td>25-40</td>\n",
       "    </tr>\n",
       "    <tr>\n",
       "      <th>2</th>\n",
       "      <td>3</td>\n",
       "      <td>5-24-2017</td>\n",
       "      <td>Rural</td>\n",
       "      <td>Graduate</td>\n",
       "      <td>₹ 5,000 - ₹ 10,000</td>\n",
       "      <td>JAP(L)</td>\n",
       "      <td>BJP</td>\n",
       "      <td>Fully Dissatisfied</td>\n",
       "      <td>Somewhat Satisfied</td>\n",
       "      <td>25</td>\n",
       "      <td>Male</td>\n",
       "      <td>191</td>\n",
       "      <td>Gen</td>\n",
       "      <td>0.673762</td>\n",
       "      <td>18-25</td>\n",
       "    </tr>\n",
       "    <tr>\n",
       "      <th>3</th>\n",
       "      <td>4</td>\n",
       "      <td>5-24-2017</td>\n",
       "      <td>Urban</td>\n",
       "      <td>Graduate</td>\n",
       "      <td>₹ 10,000 - ₹ 20,000</td>\n",
       "      <td>RJD</td>\n",
       "      <td>RJD</td>\n",
       "      <td>Fully Dissatisfied</td>\n",
       "      <td>Somewhat Satisfied</td>\n",
       "      <td>36</td>\n",
       "      <td>Male</td>\n",
       "      <td>194</td>\n",
       "      <td>Gen</td>\n",
       "      <td>1.101298</td>\n",
       "      <td>25-40</td>\n",
       "    </tr>\n",
       "    <tr>\n",
       "      <th>4</th>\n",
       "      <td>5</td>\n",
       "      <td>5-24-2017</td>\n",
       "      <td>Rural</td>\n",
       "      <td>Graduate</td>\n",
       "      <td>₹ 50,000 - ₹ 80,000</td>\n",
       "      <td>JD(U)</td>\n",
       "      <td>Did not vote</td>\n",
       "      <td>Fully Satisfied</td>\n",
       "      <td>Fully Satisfied</td>\n",
       "      <td>22</td>\n",
       "      <td>Male</td>\n",
       "      <td>176</td>\n",
       "      <td>BC</td>\n",
       "      <td>0.333505</td>\n",
       "      <td>18-25</td>\n",
       "    </tr>\n",
       "    <tr>\n",
       "      <th>...</th>\n",
       "      <td>...</td>\n",
       "      <td>...</td>\n",
       "      <td>...</td>\n",
       "      <td>...</td>\n",
       "      <td>...</td>\n",
       "      <td>...</td>\n",
       "      <td>...</td>\n",
       "      <td>...</td>\n",
       "      <td>...</td>\n",
       "      <td>...</td>\n",
       "      <td>...</td>\n",
       "      <td>...</td>\n",
       "      <td>...</td>\n",
       "      <td>...</td>\n",
       "      <td>...</td>\n",
       "    </tr>\n",
       "    <tr>\n",
       "      <th>6862</th>\n",
       "      <td>6863</td>\n",
       "      <td>6-1-2017</td>\n",
       "      <td>Rural</td>\n",
       "      <td>10th Pass</td>\n",
       "      <td>BPL/Below ₹ 5,000</td>\n",
       "      <td>JD(U)</td>\n",
       "      <td>BJP</td>\n",
       "      <td>Fully Satisfied</td>\n",
       "      <td>Fully Dissatisfied</td>\n",
       "      <td>25</td>\n",
       "      <td>Male</td>\n",
       "      <td>166</td>\n",
       "      <td>Gen</td>\n",
       "      <td>0.036329</td>\n",
       "      <td>18-25</td>\n",
       "    </tr>\n",
       "    <tr>\n",
       "      <th>6863</th>\n",
       "      <td>6864</td>\n",
       "      <td>6-1-2017</td>\n",
       "      <td>Rural</td>\n",
       "      <td>Graduate</td>\n",
       "      <td>BPL/Below ₹ 5,000</td>\n",
       "      <td>RJD</td>\n",
       "      <td>RJD</td>\n",
       "      <td>Fully Dissatisfied</td>\n",
       "      <td>Fully Dissatisfied</td>\n",
       "      <td>30</td>\n",
       "      <td>Male</td>\n",
       "      <td>169</td>\n",
       "      <td>BC</td>\n",
       "      <td>0.252780</td>\n",
       "      <td>25-40</td>\n",
       "    </tr>\n",
       "    <tr>\n",
       "      <th>6864</th>\n",
       "      <td>6865</td>\n",
       "      <td>6-1-2017</td>\n",
       "      <td>Urban</td>\n",
       "      <td>Graduate</td>\n",
       "      <td>₹ 5,000 - ₹ 10,000</td>\n",
       "      <td>JAP(L)</td>\n",
       "      <td>RJD</td>\n",
       "      <td>Can’t say</td>\n",
       "      <td>Fully Dissatisfied</td>\n",
       "      <td>20</td>\n",
       "      <td>Male</td>\n",
       "      <td>241</td>\n",
       "      <td>Gen</td>\n",
       "      <td>1.812926</td>\n",
       "      <td>18-25</td>\n",
       "    </tr>\n",
       "    <tr>\n",
       "      <th>6865</th>\n",
       "      <td>6866</td>\n",
       "      <td>6-1-2017</td>\n",
       "      <td>Rural</td>\n",
       "      <td>Professional Education</td>\n",
       "      <td>₹ 10,000 - ₹ 20,000</td>\n",
       "      <td>BJP</td>\n",
       "      <td>Did not vote</td>\n",
       "      <td>Fully Satisfied</td>\n",
       "      <td>Somewhat Satisfied</td>\n",
       "      <td>23</td>\n",
       "      <td>Male</td>\n",
       "      <td>243</td>\n",
       "      <td>Gen</td>\n",
       "      <td>0.080137</td>\n",
       "      <td>18-25</td>\n",
       "    </tr>\n",
       "    <tr>\n",
       "      <th>6866</th>\n",
       "      <td>6867</td>\n",
       "      <td>6-1-2017</td>\n",
       "      <td>Rural</td>\n",
       "      <td>10th Pass</td>\n",
       "      <td>₹ 5,000 - ₹ 10,000</td>\n",
       "      <td>JAP(L)</td>\n",
       "      <td>JAP(L)</td>\n",
       "      <td>Fully Satisfied</td>\n",
       "      <td>Fully Satisfied</td>\n",
       "      <td>33</td>\n",
       "      <td>Male</td>\n",
       "      <td>241</td>\n",
       "      <td>Gen</td>\n",
       "      <td>1.797518</td>\n",
       "      <td>25-40</td>\n",
       "    </tr>\n",
       "  </tbody>\n",
       "</table>\n",
       "<p>6867 rows × 15 columns</p>\n",
       "</div>"
      ],
      "text/plain": [
       "      response_id collection_date urban_rural               education  \\\n",
       "0               1       5-24-2017       Rural               12th Pass   \n",
       "1               2       5-24-2017       Rural                Graduate   \n",
       "2               3       5-24-2017       Rural                Graduate   \n",
       "3               4       5-24-2017       Urban                Graduate   \n",
       "4               5       5-24-2017       Rural                Graduate   \n",
       "...           ...             ...         ...                     ...   \n",
       "6862         6863        6-1-2017       Rural               10th Pass   \n",
       "6863         6864        6-1-2017       Rural                Graduate   \n",
       "6864         6865        6-1-2017       Urban                Graduate   \n",
       "6865         6866        6-1-2017       Rural  Professional Education   \n",
       "6866         6867        6-1-2017       Rural               10th Pass   \n",
       "\n",
       "                   income Vote_Now     Past_Vote     CM_satisfaction  \\\n",
       "0     ₹ 30,000 - ₹ 50,000      BJP           BJP  Fully Dissatisfied   \n",
       "1     ₹ 20,000 - ₹ 30,000     RLSP         JD(U)  Somewhat Satisfied   \n",
       "2      ₹ 5,000 - ₹ 10,000   JAP(L)           BJP  Fully Dissatisfied   \n",
       "3     ₹ 10,000 - ₹ 20,000      RJD           RJD  Fully Dissatisfied   \n",
       "4     ₹ 50,000 - ₹ 80,000    JD(U)  Did not vote     Fully Satisfied   \n",
       "...                   ...      ...           ...                 ...   \n",
       "6862    BPL/Below ₹ 5,000    JD(U)           BJP     Fully Satisfied   \n",
       "6863    BPL/Below ₹ 5,000      RJD           RJD  Fully Dissatisfied   \n",
       "6864   ₹ 5,000 - ₹ 10,000   JAP(L)           RJD           Can’t say   \n",
       "6865  ₹ 10,000 - ₹ 20,000      BJP  Did not vote     Fully Satisfied   \n",
       "6866   ₹ 5,000 - ₹ 10,000   JAP(L)        JAP(L)     Fully Satisfied   \n",
       "\n",
       "        MLA_satisfaction  age gender  assembly_no category    weight age_group  \n",
       "0     Fully Dissatisfied   26   Male          211      Gen  0.346969     25-40  \n",
       "1     Fully Dissatisfied   34   Male          189       BC  0.603419     25-40  \n",
       "2     Somewhat Satisfied   25   Male          191      Gen  0.673762     18-25  \n",
       "3     Somewhat Satisfied   36   Male          194      Gen  1.101298     25-40  \n",
       "4        Fully Satisfied   22   Male          176       BC  0.333505     18-25  \n",
       "...                  ...  ...    ...          ...      ...       ...       ...  \n",
       "6862  Fully Dissatisfied   25   Male          166      Gen  0.036329     18-25  \n",
       "6863  Fully Dissatisfied   30   Male          169       BC  0.252780     25-40  \n",
       "6864  Fully Dissatisfied   20   Male          241      Gen  1.812926     18-25  \n",
       "6865  Somewhat Satisfied   23   Male          243      Gen  0.080137     18-25  \n",
       "6866     Fully Satisfied   33   Male          241      Gen  1.797518     25-40  \n",
       "\n",
       "[6867 rows x 15 columns]"
      ]
     },
     "execution_count": 95,
     "metadata": {},
     "output_type": "execute_result"
    }
   ],
   "source": [
    "survey"
   ]
  },
  {
   "cell_type": "code",
   "execution_count": 196,
   "id": "d7e3181e",
   "metadata": {},
   "outputs": [
    {
     "data": {
      "image/png": "[encoded data removed]",
      "text/plain": [
       "<Figure size 1368x1080 with 1 Axes>"
      ]
     },
     "metadata": {
      "needs_background": "light"
     },
     "output_type": "display_data"
    }
   ],
   "source": [
    "plt.figure(figsize=(19,15))\n",
    "sns.histplot(data=survey,x=\"income\",bins=10,color=\"green\",hue=\"age_group\")\n",
    "plt.show()"
   ]
  },
  {
   "cell_type": "markdown",
   "id": "2c73c829",
   "metadata": {},
   "source": [
    " * In this Graph show the Income based on their age_group.\n",
    " * Between 5k---10k Here we can show the Graph, high Density.\n",
    " * between 80k ---1.50k salary earning the graph least density"
   ]
  },
  {
   "cell_type": "markdown",
   "id": "4d1b844d",
   "metadata": {},
   "source": [
    "# 2.Dist Plot"
   ]
  },
  {
   "cell_type": "code",
   "execution_count": 86,
   "id": "7dc6b665",
   "metadata": {},
   "outputs": [
    {
     "data": {
      "image/png": "[encoded data removed]",
      "text/plain": [
       "<Figure size 720x720 with 1 Axes>"
      ]
     },
     "metadata": {
      "needs_background": "light"
     },
     "output_type": "display_data"
    }
   ],
   "source": [
    "plt.figure(figsize=(10,10))\n",
    "sns.distplot(x=survey[\"age\"])\n",
    "plt.show()"
   ]
  },
  {
   "cell_type": "markdown",
   "id": "c0eb4738",
   "metadata": {},
   "source": [
    "* In Dist Plot represents the high age group of voters in between 20 to 35 "
   ]
  },
  {
   "cell_type": "markdown",
   "id": "65a26eb1",
   "metadata": {},
   "source": [
    "# 3.KDE Plot"
   ]
  },
  {
   "cell_type": "code",
   "execution_count": 80,
   "id": "93f82876",
   "metadata": {},
   "outputs": [
    {
     "data": {
      "text/plain": [
       "<AxesSubplot:xlabel='age', ylabel='Density'>"
      ]
     },
     "execution_count": 80,
     "metadata": {},
     "output_type": "execute_result"
    },
    {
     "data": {
      "image/png": "[encoded data removed]",
      "text/plain": [
       "<Figure size 1080x720 with 1 Axes>"
      ]
     },
     "metadata": {
      "needs_background": "light"
     },
     "output_type": "display_data"
    }
   ],
   "source": [
    "plt.figure(figsize=(15,10))\n",
    "sns.kdeplot(data=survey,x=\"age\",hue=\"age_group\",cumulative=True)"
   ]
  },
  {
   "cell_type": "markdown",
   "id": "d5a315d5",
   "metadata": {},
   "source": [
    "* KDE plot, represents the\n",
    "* 18-25 age group are 0.4 density of voting survey\n",
    "* 25-40 age group are high density of voting survey\n",
    "* 40-55 age group are 01 density of voting survey\n",
    "* 56-100 age group are below the 0.1 density and also least density of voting survey"
   ]
  },
  {
   "cell_type": "markdown",
   "id": "2c1b9a8c",
   "metadata": {},
   "source": [
    "# 4.Box Plot"
   ]
  },
  {
   "cell_type": "code",
   "execution_count": 83,
   "id": "b252726a",
   "metadata": {},
   "outputs": [
    {
     "data": {
      "image/png": "[encoded data removed]",
      "text/plain": [
       "<Figure size 1440x864 with 1 Axes>"
      ]
     },
     "metadata": {
      "needs_background": "light"
     },
     "output_type": "display_data"
    }
   ],
   "source": [
    "plt.figure(figsize=(20,12))\n",
    "sns.boxplot(data=survey,y=\"age\",x=\"education\")\n",
    "plt.title(\"match\")\n",
    "plt.show()"
   ]
  },
  {
   "cell_type": "markdown",
   "id": "3e89a900",
   "metadata": {},
   "source": [
    "* Box plot represents the based on Education\n",
    "* Here we show the outliers in illterate 20 t0 100"
   ]
  },
  {
   "cell_type": "markdown",
   "id": "354cbc69",
   "metadata": {},
   "source": [
    "# categorical variables"
   ]
  },
  {
   "cell_type": "markdown",
   "id": "a9b9650f",
   "metadata": {},
   "source": [
    "# 1. Pie Plot"
   ]
  },
  {
   "cell_type": "code",
   "execution_count": 92,
   "id": "7d85cc95",
   "metadata": {},
   "outputs": [
    {
     "data": {
      "text/plain": [
       "Fully Dissatisfied       4152\n",
       "Somewhat Satisfied       1168\n",
       "Fully Satisfied           670\n",
       "Somewhat Dissatisfied     527\n",
       "Can’t say                 350\n",
       "Name: MLA_satisfaction, dtype: int64"
      ]
     },
     "execution_count": 92,
     "metadata": {},
     "output_type": "execute_result"
    }
   ],
   "source": [
    "survey['MLA_satisfaction'].value_counts()"
   ]
  },
  {
   "cell_type": "code",
   "execution_count": 91,
   "id": "64c21970",
   "metadata": {},
   "outputs": [
    {
     "data": {
      "image/png": "[encoded data removed]",
      "text/plain": [
       "<Figure size 432x288 with 1 Axes>"
      ]
     },
     "metadata": {},
     "output_type": "display_data"
    }
   ],
   "source": [
    "plt.pie([4152,1168,670,527,350],labels=[\"Fully Dissatisfied\",\"Somewhat Satisfied\",\"Fully Satisfied\",\"Somewhat Dissatisfied\",\"Can’t say\"],autopct=\"%0.2f%%\",explode=(0.2,0,0,0,0),radius=3)\n",
    "plt.show()"
   ]
  },
  {
   "cell_type": "markdown",
   "id": "ecb358b7",
   "metadata": {},
   "source": [
    "* pie plot show the MLA_satisfaction survey\n",
    "* 60.46% full Dissatified of survey\n",
    "* 9.76% full satisfied of survey\n",
    "*17.01% somewhat satisfied of survey"
   ]
  },
  {
   "cell_type": "code",
   "execution_count": 93,
   "id": "4976bcba",
   "metadata": {},
   "outputs": [],
   "source": [
    "# 2.Count Plot"
   ]
  },
  {
   "cell_type": "code",
   "execution_count": 94,
   "id": "810957e1",
   "metadata": {},
   "outputs": [
    {
     "data": {
      "image/png": "[encoded data removed]",
      "text/plain": [
       "<Figure size 864x432 with 1 Axes>"
      ]
     },
     "metadata": {
      "needs_background": "light"
     },
     "output_type": "display_data"
    }
   ],
   "source": [
    "plt.figure(figsize=(12,6))\n",
    "sns.countplot(x='Vote_Now', data=survey)\n",
    "plt.xticks(rotation=90)\n",
    "plt.show()"
   ]
  },
  {
   "cell_type": "markdown",
   "id": "65a7c42b",
   "metadata": {},
   "source": [
    "* BJP is counting of voting in election of vote_now\n",
    "* counting of BJP party is crossing above the 2000 to show the graph\n",
    "* least counting of votes is vip party"
   ]
  },
  {
   "cell_type": "markdown",
   "id": "687d240e",
   "metadata": {},
   "source": [
    "# Question 15 - Perform Bi-Variate, Multivariate analysis and write the observations without fail."
   ]
  },
  {
   "cell_type": "markdown",
   "id": "5bd11461",
   "metadata": {},
   "source": [
    "# Bi-variate Analysis\n",
    "# - Numerical variable and Numerical variable"
   ]
  },
  {
   "cell_type": "code",
   "execution_count": 102,
   "id": "565f5150",
   "metadata": {},
   "outputs": [
    {
     "data": {
      "image/png": "[encoded data removed]",
      "text/plain": [
       "<Figure size 1080x720 with 1 Axes>"
      ]
     },
     "metadata": {
      "needs_background": "light"
     },
     "output_type": "display_data"
    }
   ],
   "source": [
    "plt.figure(figsize=(15,10))\n",
    "sns.scatterplot(data=survey,x=\"age\",y=\"age_group\",hue='CM_satisfaction')\n",
    "plt.title(\" match\")\n",
    "plt.show()"
   ]
  },
  {
   "cell_type": "markdown",
   "id": "2c4ac4aa",
   "metadata": {},
   "source": [
    "* In the scatter plot to observe the  cm_satifaction based on age groups are (\"18-25\",\"25-40\",\"40-55\",\"56-100\")."
   ]
  },
  {
   "cell_type": "markdown",
   "id": "39555fe6",
   "metadata": {},
   "source": [
    "# 2. Reg Plot"
   ]
  },
  {
   "cell_type": "code",
   "execution_count": 143,
   "id": "59c43e9c",
   "metadata": {},
   "outputs": [
    {
     "data": {
      "text/plain": [
       "<AxesSubplot:xlabel='age', ylabel='weight'>"
      ]
     },
     "execution_count": 143,
     "metadata": {},
     "output_type": "execute_result"
    },
    {
     "data": {
      "image/png": "[encoded data removed]",
      "text/plain": [
       "<Figure size 720x720 with 1 Axes>"
      ]
     },
     "metadata": {
      "needs_background": "light"
     },
     "output_type": "display_data"
    }
   ],
   "source": [
    "plt.figure(figsize=(10,10))\n",
    "sns.regplot(data=survey,x=\"age\",y='weight')"
   ]
  },
  {
   "cell_type": "markdown",
   "id": "a920afd1",
   "metadata": {},
   "source": [
    "* Reg Plot graph observe the age based on the weight of voting \n",
    "* Here observe plot,the 40-50 age group high voting, in this graph"
   ]
  },
  {
   "cell_type": "markdown",
   "id": "91dcff04",
   "metadata": {},
   "source": [
    "# 3.Relplot"
   ]
  },
  {
   "cell_type": "code",
   "execution_count": 170,
   "id": "833b45f8",
   "metadata": {},
   "outputs": [
    {
     "data": {
      "text/plain": [
       "<Figure size 1440x1080 with 0 Axes>"
      ]
     },
     "metadata": {},
     "output_type": "display_data"
    },
    {
     "data": {
      "image/png": "[encoded data removed]",
      "text/plain": [
       "<Figure size 360x720 with 2 Axes>"
      ]
     },
     "metadata": {
      "needs_background": "light"
     },
     "output_type": "display_data"
    }
   ],
   "source": [
    "plt.figure(figsize=(20,15))\n",
    "sns.relplot(data=survey,x=\"income\",y=\"age\",col=\"urban_rural\",col_wrap=1)\n",
    "plt.xticks(rotation=90)\n",
    "plt.show()"
   ]
  },
  {
   "cell_type": "markdown",
   "id": "352a193b",
   "metadata": {},
   "source": [
    "* In this survey, 10k to 20k , Rural high than urban voters based on the age \n",
    "* Above 1 lakhs earn the salary, urban is high than than the rural voters"
   ]
  },
  {
   "cell_type": "markdown",
   "id": "c03e026c",
   "metadata": {},
   "source": [
    "# Numerical and categorial variable\n",
    "# 1. Bar graph"
   ]
  },
  {
   "cell_type": "code",
   "execution_count": 186,
   "id": "ec0cf29d",
   "metadata": {},
   "outputs": [
    {
     "data": {
      "text/plain": [
       "18"
      ]
     },
     "execution_count": 186,
     "metadata": {},
     "output_type": "execute_result"
    }
   ],
   "source": [
    "survey[\"Vote_Now\"]\n",
    "g=survey.groupby(\"Vote_Now\")\n",
    "g.ngroups"
   ]
  },
  {
   "cell_type": "code",
   "execution_count": 189,
   "id": "abcf559d",
   "metadata": {},
   "outputs": [
    {
     "data": {
      "image/png": "[encoded data removed]",
      "text/plain": [
       "<Figure size 432x288 with 1 Axes>"
      ]
     },
     "metadata": {
      "needs_background": "light"
     },
     "output_type": "display_data"
    }
   ],
   "source": [
    "plt.bar([\"BJP\",\"RJD\",\"JD(U)\",\"NOTA\",\"JAP(L)\",\"PLURALS\",\"INC\",\"UNDECIDED\",\"RJJP\",\"LJP\",\"OTHERS\",\"RLSP\",\"LEFT FRONT\",\"AIMIM\",\"VIP\",\"AAP\",\"BSP\",\"HAM\"],\n",
    "        [2367,1996,526,458,313,217,216,164,142,102,87,82,79,37,28,27,15,11])\n",
    "plt.xticks(rotation=90)\n",
    "plt.show()"
   ]
  },
  {
   "cell_type": "markdown",
   "id": "ecd1a6b5",
   "metadata": {},
   "source": [
    "* Bar Graphs representes the voting of survey.\n",
    "* BJP party high position in voting polls. "
   ]
  },
  {
   "cell_type": "markdown",
   "id": "ac50a65f",
   "metadata": {},
   "source": [
    "# 2. Violin Plot"
   ]
  },
  {
   "cell_type": "code",
   "execution_count": 194,
   "id": "82904ebd",
   "metadata": {},
   "outputs": [
    {
     "data": {
      "text/plain": [
       "<AxesSubplot:xlabel='urban_rural', ylabel='age'>"
      ]
     },
     "execution_count": 194,
     "metadata": {},
     "output_type": "execute_result"
    },
    {
     "data": {
      "image/png": "[encoded data removed]",
      "text/plain": [
       "<Figure size 720x720 with 1 Axes>"
      ]
     },
     "metadata": {
      "needs_background": "light"
     },
     "output_type": "display_data"
    }
   ],
   "source": [
    "plt.figure(figsize=(10,10))\n",
    "sns.violinplot(data=survey,y=\"age\",x=\"urban_rural\",hue=\"gender\")"
   ]
  },
  {
   "cell_type": "markdown",
   "id": "7a266283",
   "metadata": {},
   "source": [
    "* Here,Violin plot represents the gender (male, female, others)\n",
    "* Rural area of female is highest voting."
   ]
  },
  {
   "cell_type": "markdown",
   "id": "c4606874",
   "metadata": {},
   "source": [
    "# multi-variate variable"
   ]
  },
  {
   "cell_type": "code",
   "execution_count": 193,
   "id": "f746111c",
   "metadata": {},
   "outputs": [
    {
     "data": {
      "text/html": [
       "<div>\n",
       "<style scoped>\n",
       "    .dataframe tbody tr th:only-of-type {\n",
       "        vertical-align: middle;\n",
       "    }\n",
       "\n",
       "    .dataframe tbody tr th {\n",
       "        vertical-align: top;\n",
       "    }\n",
       "\n",
       "    .dataframe thead th {\n",
       "        text-align: right;\n",
       "    }\n",
       "</style>\n",
       "<table border=\"1\" class=\"dataframe\">\n",
       "  <thead>\n",
       "    <tr style=\"text-align: right;\">\n",
       "      <th></th>\n",
       "      <th>response_id</th>\n",
       "      <th>collection_date</th>\n",
       "      <th>urban_rural</th>\n",
       "      <th>education</th>\n",
       "      <th>income</th>\n",
       "      <th>Vote_Now</th>\n",
       "      <th>Past_Vote</th>\n",
       "      <th>CM_satisfaction</th>\n",
       "      <th>MLA_satisfaction</th>\n",
       "      <th>age</th>\n",
       "      <th>gender</th>\n",
       "      <th>assembly_no</th>\n",
       "      <th>category</th>\n",
       "      <th>weight</th>\n",
       "      <th>age_group</th>\n",
       "    </tr>\n",
       "  </thead>\n",
       "  <tbody>\n",
       "    <tr>\n",
       "      <th>0</th>\n",
       "      <td>1</td>\n",
       "      <td>5-24-2017</td>\n",
       "      <td>Rural</td>\n",
       "      <td>12th Pass</td>\n",
       "      <td>₹ 30,000 - ₹ 50,000</td>\n",
       "      <td>BJP</td>\n",
       "      <td>BJP</td>\n",
       "      <td>Fully Dissatisfied</td>\n",
       "      <td>Fully Dissatisfied</td>\n",
       "      <td>26</td>\n",
       "      <td>Male</td>\n",
       "      <td>211</td>\n",
       "      <td>Gen</td>\n",
       "      <td>0.346969</td>\n",
       "      <td>25-40</td>\n",
       "    </tr>\n",
       "    <tr>\n",
       "      <th>1</th>\n",
       "      <td>2</td>\n",
       "      <td>5-24-2017</td>\n",
       "      <td>Rural</td>\n",
       "      <td>Graduate</td>\n",
       "      <td>₹ 20,000 - ₹ 30,000</td>\n",
       "      <td>RLSP</td>\n",
       "      <td>JD(U)</td>\n",
       "      <td>Somewhat Satisfied</td>\n",
       "      <td>Fully Dissatisfied</td>\n",
       "      <td>34</td>\n",
       "      <td>Male</td>\n",
       "      <td>189</td>\n",
       "      <td>BC</td>\n",
       "      <td>0.603419</td>\n",
       "      <td>25-40</td>\n",
       "    </tr>\n",
       "    <tr>\n",
       "      <th>2</th>\n",
       "      <td>3</td>\n",
       "      <td>5-24-2017</td>\n",
       "      <td>Rural</td>\n",
       "      <td>Graduate</td>\n",
       "      <td>₹ 5,000 - ₹ 10,000</td>\n",
       "      <td>JAP(L)</td>\n",
       "      <td>BJP</td>\n",
       "      <td>Fully Dissatisfied</td>\n",
       "      <td>Somewhat Satisfied</td>\n",
       "      <td>25</td>\n",
       "      <td>Male</td>\n",
       "      <td>191</td>\n",
       "      <td>Gen</td>\n",
       "      <td>0.673762</td>\n",
       "      <td>18-25</td>\n",
       "    </tr>\n",
       "    <tr>\n",
       "      <th>3</th>\n",
       "      <td>4</td>\n",
       "      <td>5-24-2017</td>\n",
       "      <td>Urban</td>\n",
       "      <td>Graduate</td>\n",
       "      <td>₹ 10,000 - ₹ 20,000</td>\n",
       "      <td>RJD</td>\n",
       "      <td>RJD</td>\n",
       "      <td>Fully Dissatisfied</td>\n",
       "      <td>Somewhat Satisfied</td>\n",
       "      <td>36</td>\n",
       "      <td>Male</td>\n",
       "      <td>194</td>\n",
       "      <td>Gen</td>\n",
       "      <td>1.101298</td>\n",
       "      <td>25-40</td>\n",
       "    </tr>\n",
       "    <tr>\n",
       "      <th>4</th>\n",
       "      <td>5</td>\n",
       "      <td>5-24-2017</td>\n",
       "      <td>Rural</td>\n",
       "      <td>Graduate</td>\n",
       "      <td>₹ 50,000 - ₹ 80,000</td>\n",
       "      <td>JD(U)</td>\n",
       "      <td>Did not vote</td>\n",
       "      <td>Fully Satisfied</td>\n",
       "      <td>Fully Satisfied</td>\n",
       "      <td>22</td>\n",
       "      <td>Male</td>\n",
       "      <td>176</td>\n",
       "      <td>BC</td>\n",
       "      <td>0.333505</td>\n",
       "      <td>18-25</td>\n",
       "    </tr>\n",
       "    <tr>\n",
       "      <th>...</th>\n",
       "      <td>...</td>\n",
       "      <td>...</td>\n",
       "      <td>...</td>\n",
       "      <td>...</td>\n",
       "      <td>...</td>\n",
       "      <td>...</td>\n",
       "      <td>...</td>\n",
       "      <td>...</td>\n",
       "      <td>...</td>\n",
       "      <td>...</td>\n",
       "      <td>...</td>\n",
       "      <td>...</td>\n",
       "      <td>...</td>\n",
       "      <td>...</td>\n",
       "      <td>...</td>\n",
       "    </tr>\n",
       "    <tr>\n",
       "      <th>6862</th>\n",
       "      <td>6863</td>\n",
       "      <td>6-1-2017</td>\n",
       "      <td>Rural</td>\n",
       "      <td>10th Pass</td>\n",
       "      <td>BPL/Below ₹ 5,000</td>\n",
       "      <td>JD(U)</td>\n",
       "      <td>BJP</td>\n",
       "      <td>Fully Satisfied</td>\n",
       "      <td>Fully Dissatisfied</td>\n",
       "      <td>25</td>\n",
       "      <td>Male</td>\n",
       "      <td>166</td>\n",
       "      <td>Gen</td>\n",
       "      <td>0.036329</td>\n",
       "      <td>18-25</td>\n",
       "    </tr>\n",
       "    <tr>\n",
       "      <th>6863</th>\n",
       "      <td>6864</td>\n",
       "      <td>6-1-2017</td>\n",
       "      <td>Rural</td>\n",
       "      <td>Graduate</td>\n",
       "      <td>BPL/Below ₹ 5,000</td>\n",
       "      <td>RJD</td>\n",
       "      <td>RJD</td>\n",
       "      <td>Fully Dissatisfied</td>\n",
       "      <td>Fully Dissatisfied</td>\n",
       "      <td>30</td>\n",
       "      <td>Male</td>\n",
       "      <td>169</td>\n",
       "      <td>BC</td>\n",
       "      <td>0.252780</td>\n",
       "      <td>25-40</td>\n",
       "    </tr>\n",
       "    <tr>\n",
       "      <th>6864</th>\n",
       "      <td>6865</td>\n",
       "      <td>6-1-2017</td>\n",
       "      <td>Urban</td>\n",
       "      <td>Graduate</td>\n",
       "      <td>₹ 5,000 - ₹ 10,000</td>\n",
       "      <td>JAP(L)</td>\n",
       "      <td>RJD</td>\n",
       "      <td>Can’t say</td>\n",
       "      <td>Fully Dissatisfied</td>\n",
       "      <td>20</td>\n",
       "      <td>Male</td>\n",
       "      <td>241</td>\n",
       "      <td>Gen</td>\n",
       "      <td>1.812926</td>\n",
       "      <td>18-25</td>\n",
       "    </tr>\n",
       "    <tr>\n",
       "      <th>6865</th>\n",
       "      <td>6866</td>\n",
       "      <td>6-1-2017</td>\n",
       "      <td>Rural</td>\n",
       "      <td>Professional Education</td>\n",
       "      <td>₹ 10,000 - ₹ 20,000</td>\n",
       "      <td>BJP</td>\n",
       "      <td>Did not vote</td>\n",
       "      <td>Fully Satisfied</td>\n",
       "      <td>Somewhat Satisfied</td>\n",
       "      <td>23</td>\n",
       "      <td>Male</td>\n",
       "      <td>243</td>\n",
       "      <td>Gen</td>\n",
       "      <td>0.080137</td>\n",
       "      <td>18-25</td>\n",
       "    </tr>\n",
       "    <tr>\n",
       "      <th>6866</th>\n",
       "      <td>6867</td>\n",
       "      <td>6-1-2017</td>\n",
       "      <td>Rural</td>\n",
       "      <td>10th Pass</td>\n",
       "      <td>₹ 5,000 - ₹ 10,000</td>\n",
       "      <td>JAP(L)</td>\n",
       "      <td>JAP(L)</td>\n",
       "      <td>Fully Satisfied</td>\n",
       "      <td>Fully Satisfied</td>\n",
       "      <td>33</td>\n",
       "      <td>Male</td>\n",
       "      <td>241</td>\n",
       "      <td>Gen</td>\n",
       "      <td>1.797518</td>\n",
       "      <td>25-40</td>\n",
       "    </tr>\n",
       "  </tbody>\n",
       "</table>\n",
       "<p>6867 rows × 15 columns</p>\n",
       "</div>"
      ],
      "text/plain": [
       "      response_id collection_date urban_rural               education  \\\n",
       "0               1       5-24-2017       Rural               12th Pass   \n",
       "1               2       5-24-2017       Rural                Graduate   \n",
       "2               3       5-24-2017       Rural                Graduate   \n",
       "3               4       5-24-2017       Urban                Graduate   \n",
       "4               5       5-24-2017       Rural                Graduate   \n",
       "...           ...             ...         ...                     ...   \n",
       "6862         6863        6-1-2017       Rural               10th Pass   \n",
       "6863         6864        6-1-2017       Rural                Graduate   \n",
       "6864         6865        6-1-2017       Urban                Graduate   \n",
       "6865         6866        6-1-2017       Rural  Professional Education   \n",
       "6866         6867        6-1-2017       Rural               10th Pass   \n",
       "\n",
       "                   income Vote_Now     Past_Vote     CM_satisfaction  \\\n",
       "0     ₹ 30,000 - ₹ 50,000      BJP           BJP  Fully Dissatisfied   \n",
       "1     ₹ 20,000 - ₹ 30,000     RLSP         JD(U)  Somewhat Satisfied   \n",
       "2      ₹ 5,000 - ₹ 10,000   JAP(L)           BJP  Fully Dissatisfied   \n",
       "3     ₹ 10,000 - ₹ 20,000      RJD           RJD  Fully Dissatisfied   \n",
       "4     ₹ 50,000 - ₹ 80,000    JD(U)  Did not vote     Fully Satisfied   \n",
       "...                   ...      ...           ...                 ...   \n",
       "6862    BPL/Below ₹ 5,000    JD(U)           BJP     Fully Satisfied   \n",
       "6863    BPL/Below ₹ 5,000      RJD           RJD  Fully Dissatisfied   \n",
       "6864   ₹ 5,000 - ₹ 10,000   JAP(L)           RJD           Can’t say   \n",
       "6865  ₹ 10,000 - ₹ 20,000      BJP  Did not vote     Fully Satisfied   \n",
       "6866   ₹ 5,000 - ₹ 10,000   JAP(L)        JAP(L)     Fully Satisfied   \n",
       "\n",
       "        MLA_satisfaction  age gender  assembly_no category    weight age_group  \n",
       "0     Fully Dissatisfied   26   Male          211      Gen  0.346969     25-40  \n",
       "1     Fully Dissatisfied   34   Male          189       BC  0.603419     25-40  \n",
       "2     Somewhat Satisfied   25   Male          191      Gen  0.673762     18-25  \n",
       "3     Somewhat Satisfied   36   Male          194      Gen  1.101298     25-40  \n",
       "4        Fully Satisfied   22   Male          176       BC  0.333505     18-25  \n",
       "...                  ...  ...    ...          ...      ...       ...       ...  \n",
       "6862  Fully Dissatisfied   25   Male          166      Gen  0.036329     18-25  \n",
       "6863  Fully Dissatisfied   30   Male          169       BC  0.252780     25-40  \n",
       "6864  Fully Dissatisfied   20   Male          241      Gen  1.812926     18-25  \n",
       "6865  Somewhat Satisfied   23   Male          243      Gen  0.080137     18-25  \n",
       "6866     Fully Satisfied   33   Male          241      Gen  1.797518     25-40  \n",
       "\n",
       "[6867 rows x 15 columns]"
      ]
     },
     "execution_count": 193,
     "metadata": {},
     "output_type": "execute_result"
    }
   ],
   "source": [
    "survey"
   ]
  },
  {
   "cell_type": "code",
   "execution_count": 8,
   "id": "d1506381",
   "metadata": {},
   "outputs": [
    {
     "data": {
      "text/plain": [
       "<AxesSubplot:>"
      ]
     },
     "execution_count": 8,
     "metadata": {},
     "output_type": "execute_result"
    },
    {
     "data": {
      "image/png": "[encoded data removed]",
      "text/plain": [
       "<Figure size 1440x720 with 2 Axes>"
      ]
     },
     "metadata": {
      "needs_background": "light"
     },
     "output_type": "display_data"
    }
   ],
   "source": [
    "plt.figure(figsize=(20,10))\n",
    "sns.heatmap(survey.corr(),annot=True,square=True)"
   ]
  },
  {
   "cell_type": "markdown",
   "id": "28d4748b",
   "metadata": {},
   "source": [
    "* In Heatmap represent that,\n",
    "* weight vs respone_id 0.003 correlation\n",
    "* weight vs age 0.29 correlation\n",
    "* assembly_no vs response_id -0.25 negative correlation"
   ]
  },
  {
   "cell_type": "code",
   "execution_count": null,
   "id": "d182e480",
   "metadata": {},
   "outputs": [],
   "source": []
  }
 ],
 "metadata": {
  "kernelspec": {
   "display_name": "Python 3 (ipykernel)",
   "language": "python",
   "name": "python3"
  },
  "language_info": {
   "codemirror_mode": {
    "name": "ipython",
    "version": 3
   },
   "file_extension": ".py",
   "mimetype": "text/x-python",
   "name": "python",
   "nbconvert_exporter": "python",
   "pygments_lexer": "ipython3",
   "version": "3.9.12"
  }
 },
 "nbformat": 4,
 "nbformat_minor": 5
}
